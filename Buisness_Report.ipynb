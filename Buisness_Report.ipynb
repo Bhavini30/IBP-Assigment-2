{
  "cells": [
    {
      "cell_type": "markdown",
      "metadata": {
        "id": "view-in-github",
        "colab_type": "text"
      },
      "source": [
        "<a href=\"https://colab.research.google.com/github/Bhavini30/IBP-Assigment-2/blob/main/Buisness_Report.ipynb\" target=\"_parent\"><img src=\"https://colab.research.google.com/assets/colab-badge.svg\" alt=\"Open In Colab\"/></a>"
      ]
    },
    {
      "cell_type": "markdown",
      "source": [
        "### Downloading Enron Email Data\n",
        "\n",
        "\n",
        "\n",
        "### Full/Complete Dataset\n",
        "\n",
        "The following code-cell will download the complete Enron email database to the Colab instance.  It will take about 1-2 mins to download."
      ],
      "metadata": {
        "id": "_6s_eJ_LyO1i"
      }
    },
    {
      "cell_type": "code",
      "execution_count": 1,
      "metadata": {
        "id": "lIYdn1woOS1n",
        "outputId": "df105f22-4e35-4d7d-e02f-cf9cf6191e5f",
        "colab": {
          "base_uri": "https://localhost:8080/"
        }
      },
      "outputs": [
        {
          "output_type": "stream",
          "name": "stdout",
          "text": [
            "--2023-05-28 06:48:22--  https://curtin-my.sharepoint.com/:u:/g/personal/211934g_curtin_edu_au/EaYagsqa2r1Bi5wtHbswGFwBH2kd2uTnz6rlka7GI36GUQ?download=1\n",
            "Resolving curtin-my.sharepoint.com (curtin-my.sharepoint.com)... 13.107.136.8, 13.107.138.8, 2620:1ec:8f8::8, ...\n",
            "Connecting to curtin-my.sharepoint.com (curtin-my.sharepoint.com)|13.107.136.8|:443... connected.\n",
            "HTTP request sent, awaiting response... 302 Found\n",
            "Location: /personal/211934g_curtin_edu_au/Documents/Teaching/ISYS2001/ISYS2001-Assignment-2-Data/enron_sqlite3.db?ga=1 [following]\n",
            "--2023-05-28 06:48:23--  https://curtin-my.sharepoint.com/personal/211934g_curtin_edu_au/Documents/Teaching/ISYS2001/ISYS2001-Assignment-2-Data/enron_sqlite3.db?ga=1\n",
            "Reusing existing connection to curtin-my.sharepoint.com:443.\n",
            "HTTP request sent, awaiting response... 200 OK\n",
            "Length: 853819392 (814M) [application/octet-stream]\n",
            "Saving to: ‘enron.db’\n",
            "\n",
            "enron.db            100%[===================>] 814.27M  64.3MB/s    in 18s     \n",
            "\n",
            "2023-05-28 06:48:42 (44.2 MB/s) - ‘enron.db’ saved [853819392/853819392]\n",
            "\n"
          ]
        }
      ],
      "source": [
        "#running wget to download  enron on google colab\n",
        "!wget -O enron.db https://curtin-my.sharepoint.com/:u:/g/personal/211934g_curtin_edu_au/EaYagsqa2r1Bi5wtHbswGFwBH2kd2uTnz6rlka7GI36GUQ?download=1"
      ]
    },
    {
      "cell_type": "markdown",
      "source": [
        "**Establishing connection to Enron database with sqlite library**"
      ],
      "metadata": {
        "id": "Kr8EvJm3km57"
      }
    },
    {
      "cell_type": "code",
      "source": [
        "#importing sqlite3 library\n",
        "import sqlite3"
      ],
      "metadata": {
        "id": "tZA4ggauYaoy"
      },
      "execution_count": 2,
      "outputs": []
    },
    {
      "cell_type": "code",
      "source": [
        "#Establishing connection with database\n",
        "conn=sqlite3.connect(\"enron.db\")"
      ],
      "metadata": {
        "id": "QK-zN3AWYwdE"
      },
      "execution_count": 3,
      "outputs": []
    },
    {
      "cell_type": "code",
      "source": [
        "#Creating a cursor object\n",
        "cur=conn.cursor()"
      ],
      "metadata": {
        "id": "0z0_Akd8Y_xL"
      },
      "execution_count": 4,
      "outputs": []
    },
    {
      "cell_type": "markdown",
      "source": [
        "**Checking the Database Schema**"
      ],
      "metadata": {
        "id": "KEtbf1JfDA7F"
      }
    },
    {
      "cell_type": "code",
      "source": [
        "#sql query to check the schema of database\n",
        "sql=\"\"\"\n",
        "SELECT name\n",
        "FROM sqlite_master\n",
        "WHERE type = 'table';\n",
        "\"\"\"\n",
        "cur.execute(sql)\n",
        "cur.fetchall()"
      ],
      "metadata": {
        "colab": {
          "base_uri": "https://localhost:8080/"
        },
        "id": "jYMeqbtMSNMc",
        "outputId": "3b357adc-0a30-40bc-8c1c-081c9da2bd38"
      },
      "execution_count": 5,
      "outputs": [
        {
          "output_type": "execute_result",
          "data": {
            "text/plain": [
              "[('employeelist',), ('message',), ('recipientinfo',), ('referenceinfo',)]"
            ]
          },
          "metadata": {},
          "execution_count": 5
        }
      ]
    },
    {
      "cell_type": "code",
      "source": [
        "#sql query to check schema of table:employeelist\n",
        "sql= \"\"\"\n",
        "PRAGMA table_info('employeelist');\n",
        "\"\"\"\n",
        "\n",
        "cur.execute(sql)\n",
        "cur.fetchall()"
      ],
      "metadata": {
        "colab": {
          "base_uri": "https://localhost:8080/"
        },
        "id": "gJgsTFVFPynZ",
        "outputId": "d442a2cb-e680-4a10-968c-42209ec0f5d7"
      },
      "execution_count": 6,
      "outputs": [
        {
          "output_type": "execute_result",
          "data": {
            "text/plain": [
              "[(0, 'eid', 'INTEGER', 1, None, 1),\n",
              " (1, 'firstName', 'VARCHAR(31)', 1, \"''\", 0),\n",
              " (2, 'lastName', 'VARCHAR(31)', 1, \"''\", 0),\n",
              " (3, 'Email_id', 'VARCHAR(31)', 1, \"''\", 0),\n",
              " (4, 'Email2', 'VARCHAR(31)', 0, None, 0),\n",
              " (5, 'Email3', 'VARCHAR(31)', 0, None, 0),\n",
              " (6, 'EMail4', 'VARCHAR(31)', 0, None, 0),\n",
              " (7, 'folder', 'VARCHAR(31)', 1, \"''\", 0),\n",
              " (8, 'status', 'VARCHAR(50)', 0, None, 0)]"
            ]
          },
          "metadata": {},
          "execution_count": 6
        }
      ]
    },
    {
      "cell_type": "code",
      "source": [
        "#sql query to check schema of table:message\n",
        "sql= \"\"\"\n",
        "PRAGMA table_info('message');\n",
        "\"\"\"\n",
        "\n",
        "cur.execute(sql)\n",
        "cur.fetchall()"
      ],
      "metadata": {
        "colab": {
          "base_uri": "https://localhost:8080/"
        },
        "id": "db8ZJaOETQLK",
        "outputId": "6f38725b-d27a-4f76-e562-377e2d64ab85"
      },
      "execution_count": 7,
      "outputs": [
        {
          "output_type": "execute_result",
          "data": {
            "text/plain": [
              "[(0, 'mid', 'INTEGER', 1, \"'0'\", 1),\n",
              " (1, 'sender', 'VARCHAR(127)', 1, \"''\", 0),\n",
              " (2, 'date', 'DATETIME', 0, None, 0),\n",
              " (3, 'message_id', 'VARCHAR(127)', 0, None, 0),\n",
              " (4, 'subject', 'TEXT', 0, None, 0),\n",
              " (5, 'body', 'TEXT', 0, None, 0),\n",
              " (6, 'folder', 'VARCHAR(127)', 1, \"''\", 0)]"
            ]
          },
          "metadata": {},
          "execution_count": 7
        }
      ]
    },
    {
      "cell_type": "code",
      "source": [
        "#sql query to check schema of table:reciepientinfo\n",
        "sql= \"\"\"\n",
        "PRAGMA table_info('recipientinfo');\n",
        "\"\"\"\n",
        "\n",
        "cur.execute(sql)\n",
        "cur.fetchall()"
      ],
      "metadata": {
        "colab": {
          "base_uri": "https://localhost:8080/"
        },
        "id": "6aybH75vTSsq",
        "outputId": "2e2c9045-237e-43ad-98c3-33b2f7e52a1a"
      },
      "execution_count": 8,
      "outputs": [
        {
          "output_type": "execute_result",
          "data": {
            "text/plain": [
              "[(0, 'rid', 'INTEGER', 1, \"'0'\", 1),\n",
              " (1, 'mid', 'INTEGER', 1, \"'0'\", 0),\n",
              " (2, 'rtype', 'TEXT', 0, None, 0),\n",
              " (3, 'rvalue', 'VARCHAR(127)', 0, None, 0),\n",
              " (4, 'dater', 'DATETIME', 0, None, 0)]"
            ]
          },
          "metadata": {},
          "execution_count": 8
        }
      ]
    },
    {
      "cell_type": "code",
      "source": [
        "#sql query to check schema of table:referenceinfo\n",
        "sql= \"\"\"\n",
        "PRAGMA table_info('referenceinfo');\n",
        "\"\"\"\n",
        "\n",
        "cur.execute(sql)\n",
        "cur.fetchall()"
      ],
      "metadata": {
        "colab": {
          "base_uri": "https://localhost:8080/"
        },
        "id": "4y4OWBhiTTco",
        "outputId": "59d4b220-bfe3-45bc-8b44-1729d2873a2f"
      },
      "execution_count": 9,
      "outputs": [
        {
          "output_type": "execute_result",
          "data": {
            "text/plain": [
              "[(0, 'rfid', 'INTEGER', 1, \"'0'\", 1),\n",
              " (1, 'mid', 'INTEGER', 1, \"'0'\", 0),\n",
              " (2, 'reference', 'TEXT', 0, None, 0)]"
            ]
          },
          "metadata": {},
          "execution_count": 9
        }
      ]
    },
    {
      "cell_type": "code",
      "source": [
        "#Import pandas to help translate the table into a dataframe \n",
        "import pandas as pd\n"
      ],
      "metadata": {
        "id": "vRidTEWeXb2q"
      },
      "execution_count": 10,
      "outputs": []
    },
    {
      "cell_type": "code",
      "source": [
        "#check format of date field in Message table\n",
        "sql=\"\"\"\n",
        "SELECT date \n",
        "FROM message\n",
        "\"\"\"\n",
        "cur.execute(sql)\n",
        "cur.fetchone()"
      ],
      "metadata": {
        "colab": {
          "base_uri": "https://localhost:8080/"
        },
        "id": "2QWsD_adXhbQ",
        "outputId": "cc265574-49df-43b8-fbb8-a58d7960ed53"
      },
      "execution_count": 11,
      "outputs": [
        {
          "output_type": "execute_result",
          "data": {
            "text/plain": [
              "('2000-01-21 04:51:00',)"
            ]
          },
          "metadata": {},
          "execution_count": 11
        }
      ]
    },
    {
      "cell_type": "code",
      "source": [
        "#writing an sql query to fetch records from the message table and creating A Dataframe\n",
        "sql=\"\"\"\n",
        "SELECT * from message;\n",
        "\"\"\"\n",
        "message_df=pd.read_sql_query(sql,conn)\n",
        "message_df"
      ],
      "metadata": {
        "colab": {
          "base_uri": "https://localhost:8080/",
          "height": 1000
        },
        "id": "-dOrrRG0ZON6",
        "outputId": "2dee7808-1aba-432e-86f9-f4eb302f1477"
      },
      "execution_count": 12,
      "outputs": [
        {
          "output_type": "execute_result",
          "data": {
            "text/plain": [
              "           mid                     sender                 date  \\\n",
              "0           52    press.release@enron.com  2000-01-21 04:51:00   \n",
              "1           53  office.chairman@enron.com  2000-01-24 01:37:00   \n",
              "2           54  office.chairman@enron.com  2000-01-24 02:06:00   \n",
              "3           55    press.release@enron.com  2000-02-02 10:21:00   \n",
              "4           56  office.chairman@enron.com  2000-02-07 22:16:00   \n",
              "...        ...                        ...                  ...   \n",
              "252754  404923    karen.buckley@enron.com  2002-02-06 16:51:29   \n",
              "252755  404924    karen.buckley@enron.com  2002-02-06 17:17:39   \n",
              "252756  404925       liz.taylor@enron.com  2002-02-06 20:09:37   \n",
              "252757  404926       pete.davis@enron.com  2002-02-07 04:38:13   \n",
              "252758  404927       pete.davis@enron.com  2002-02-07 05:38:14   \n",
              "\n",
              "                                           message_id  \\\n",
              "0       <12435833.1075863606729.JavaMail.evans@thyme>   \n",
              "1       <29664079.1075863606676.JavaMail.evans@thyme>   \n",
              "2       <15300605.1075863606629.JavaMail.evans@thyme>   \n",
              "3       <10522232.1075863606538.JavaMail.evans@thyme>   \n",
              "4       <16056123.1075863606515.JavaMail.evans@thyme>   \n",
              "...                                               ...   \n",
              "252754  <16183734.1075840015218.JavaMail.evans@thyme>   \n",
              "252755  <28117049.1075840015191.JavaMail.evans@thyme>   \n",
              "252756  <32633742.1075840015168.JavaMail.evans@thyme>   \n",
              "252757  <17912146.1075840015125.JavaMail.evans@thyme>   \n",
              "252758  <16703414.1075840015101.JavaMail.evans@thyme>   \n",
              "\n",
              "                                                  subject  \\\n",
              "0       ENRON HOSTS ANNUAL ANALYST CONFERENCE PROVIDES...   \n",
              "1                         Over $50 -- You made it happen!   \n",
              "2                         Over $50 -- You made it happen!   \n",
              "3       ROAD-SHOW.COM Q4i.COM CHOOSE ENRON TO DELIVER ...   \n",
              "4                            Fortune Most Admired Ranking   \n",
              "...                                                   ...   \n",
              "252754                   URGENT - NEED CONFIRMATION TODAY   \n",
              "252755                                                      \n",
              "252756  Trader Presentations - 2/7 @ 2:30 p.m. (CST) i...   \n",
              "252757             Start Date: 2/7/02; HourAhead hour: 3;   \n",
              "252758             Start Date: 2/7/02; HourAhead hour: 4;   \n",
              "\n",
              "                                                     body  \\\n",
              "0       HOUSTON - Enron Corp. hosted its annual equity...   \n",
              "1       On Wall Street, people are talking about Enron...   \n",
              "2       On Wall Street, people are talking about Enron...   \n",
              "3       HOUSTON =01) Enron Broadband Services (EBS), a...   \n",
              "4       Congratulations!  For an unprecedented five ye...   \n",
              "...                                                   ...   \n",
              "252754  X-FileName: Pls confirm at what location (i.e ...   \n",
              "252755  X-FileName: Craig - I need the date and locati...   \n",
              "252756  X-FileName:      There will be two presentatio...   \n",
              "252757  X-FileName: Start Date: 2/7/02; HourAhead hour...   \n",
              "252758  X-FileName: Start Date: 2/7/02; HourAhead hour...   \n",
              "\n",
              "                                                  folder  \n",
              "0       Robert_Badeer_Aug2000Notes FoldersPress releases  \n",
              "1       Robert_Badeer_Aug2000Notes FoldersPress releases  \n",
              "2       Robert_Badeer_Aug2000Notes FoldersPress releases  \n",
              "3       Robert_Badeer_Aug2000Notes FoldersPress releases  \n",
              "4       Robert_Badeer_Aug2000Notes FoldersPress releases  \n",
              "...                                                  ...  \n",
              "252754                        ExMerge - Dean, CraigInbox  \n",
              "252755                        ExMerge - Dean, CraigInbox  \n",
              "252756                        ExMerge - Dean, CraigInbox  \n",
              "252757                        ExMerge - Dean, CraigInbox  \n",
              "252758                        ExMerge - Dean, CraigInbox  \n",
              "\n",
              "[252759 rows x 7 columns]"
            ],
            "text/html": [
              "\n",
              "  <div id=\"df-f7d0bf0e-4afc-4a89-877c-2e69a0687667\">\n",
              "    <div class=\"colab-df-container\">\n",
              "      <div>\n",
              "<style scoped>\n",
              "    .dataframe tbody tr th:only-of-type {\n",
              "        vertical-align: middle;\n",
              "    }\n",
              "\n",
              "    .dataframe tbody tr th {\n",
              "        vertical-align: top;\n",
              "    }\n",
              "\n",
              "    .dataframe thead th {\n",
              "        text-align: right;\n",
              "    }\n",
              "</style>\n",
              "<table border=\"1\" class=\"dataframe\">\n",
              "  <thead>\n",
              "    <tr style=\"text-align: right;\">\n",
              "      <th></th>\n",
              "      <th>mid</th>\n",
              "      <th>sender</th>\n",
              "      <th>date</th>\n",
              "      <th>message_id</th>\n",
              "      <th>subject</th>\n",
              "      <th>body</th>\n",
              "      <th>folder</th>\n",
              "    </tr>\n",
              "  </thead>\n",
              "  <tbody>\n",
              "    <tr>\n",
              "      <th>0</th>\n",
              "      <td>52</td>\n",
              "      <td>press.release@enron.com</td>\n",
              "      <td>2000-01-21 04:51:00</td>\n",
              "      <td>&lt;12435833.1075863606729.JavaMail.evans@thyme&gt;</td>\n",
              "      <td>ENRON HOSTS ANNUAL ANALYST CONFERENCE PROVIDES...</td>\n",
              "      <td>HOUSTON - Enron Corp. hosted its annual equity...</td>\n",
              "      <td>Robert_Badeer_Aug2000Notes FoldersPress releases</td>\n",
              "    </tr>\n",
              "    <tr>\n",
              "      <th>1</th>\n",
              "      <td>53</td>\n",
              "      <td>office.chairman@enron.com</td>\n",
              "      <td>2000-01-24 01:37:00</td>\n",
              "      <td>&lt;29664079.1075863606676.JavaMail.evans@thyme&gt;</td>\n",
              "      <td>Over $50 -- You made it happen!</td>\n",
              "      <td>On Wall Street, people are talking about Enron...</td>\n",
              "      <td>Robert_Badeer_Aug2000Notes FoldersPress releases</td>\n",
              "    </tr>\n",
              "    <tr>\n",
              "      <th>2</th>\n",
              "      <td>54</td>\n",
              "      <td>office.chairman@enron.com</td>\n",
              "      <td>2000-01-24 02:06:00</td>\n",
              "      <td>&lt;15300605.1075863606629.JavaMail.evans@thyme&gt;</td>\n",
              "      <td>Over $50 -- You made it happen!</td>\n",
              "      <td>On Wall Street, people are talking about Enron...</td>\n",
              "      <td>Robert_Badeer_Aug2000Notes FoldersPress releases</td>\n",
              "    </tr>\n",
              "    <tr>\n",
              "      <th>3</th>\n",
              "      <td>55</td>\n",
              "      <td>press.release@enron.com</td>\n",
              "      <td>2000-02-02 10:21:00</td>\n",
              "      <td>&lt;10522232.1075863606538.JavaMail.evans@thyme&gt;</td>\n",
              "      <td>ROAD-SHOW.COM Q4i.COM CHOOSE ENRON TO DELIVER ...</td>\n",
              "      <td>HOUSTON =01) Enron Broadband Services (EBS), a...</td>\n",
              "      <td>Robert_Badeer_Aug2000Notes FoldersPress releases</td>\n",
              "    </tr>\n",
              "    <tr>\n",
              "      <th>4</th>\n",
              "      <td>56</td>\n",
              "      <td>office.chairman@enron.com</td>\n",
              "      <td>2000-02-07 22:16:00</td>\n",
              "      <td>&lt;16056123.1075863606515.JavaMail.evans@thyme&gt;</td>\n",
              "      <td>Fortune Most Admired Ranking</td>\n",
              "      <td>Congratulations!  For an unprecedented five ye...</td>\n",
              "      <td>Robert_Badeer_Aug2000Notes FoldersPress releases</td>\n",
              "    </tr>\n",
              "    <tr>\n",
              "      <th>...</th>\n",
              "      <td>...</td>\n",
              "      <td>...</td>\n",
              "      <td>...</td>\n",
              "      <td>...</td>\n",
              "      <td>...</td>\n",
              "      <td>...</td>\n",
              "      <td>...</td>\n",
              "    </tr>\n",
              "    <tr>\n",
              "      <th>252754</th>\n",
              "      <td>404923</td>\n",
              "      <td>karen.buckley@enron.com</td>\n",
              "      <td>2002-02-06 16:51:29</td>\n",
              "      <td>&lt;16183734.1075840015218.JavaMail.evans@thyme&gt;</td>\n",
              "      <td>URGENT - NEED CONFIRMATION TODAY</td>\n",
              "      <td>X-FileName: Pls confirm at what location (i.e ...</td>\n",
              "      <td>ExMerge - Dean, CraigInbox</td>\n",
              "    </tr>\n",
              "    <tr>\n",
              "      <th>252755</th>\n",
              "      <td>404924</td>\n",
              "      <td>karen.buckley@enron.com</td>\n",
              "      <td>2002-02-06 17:17:39</td>\n",
              "      <td>&lt;28117049.1075840015191.JavaMail.evans@thyme&gt;</td>\n",
              "      <td></td>\n",
              "      <td>X-FileName: Craig - I need the date and locati...</td>\n",
              "      <td>ExMerge - Dean, CraigInbox</td>\n",
              "    </tr>\n",
              "    <tr>\n",
              "      <th>252756</th>\n",
              "      <td>404925</td>\n",
              "      <td>liz.taylor@enron.com</td>\n",
              "      <td>2002-02-06 20:09:37</td>\n",
              "      <td>&lt;32633742.1075840015168.JavaMail.evans@thyme&gt;</td>\n",
              "      <td>Trader Presentations - 2/7 @ 2:30 p.m. (CST) i...</td>\n",
              "      <td>X-FileName:      There will be two presentatio...</td>\n",
              "      <td>ExMerge - Dean, CraigInbox</td>\n",
              "    </tr>\n",
              "    <tr>\n",
              "      <th>252757</th>\n",
              "      <td>404926</td>\n",
              "      <td>pete.davis@enron.com</td>\n",
              "      <td>2002-02-07 04:38:13</td>\n",
              "      <td>&lt;17912146.1075840015125.JavaMail.evans@thyme&gt;</td>\n",
              "      <td>Start Date: 2/7/02; HourAhead hour: 3;</td>\n",
              "      <td>X-FileName: Start Date: 2/7/02; HourAhead hour...</td>\n",
              "      <td>ExMerge - Dean, CraigInbox</td>\n",
              "    </tr>\n",
              "    <tr>\n",
              "      <th>252758</th>\n",
              "      <td>404927</td>\n",
              "      <td>pete.davis@enron.com</td>\n",
              "      <td>2002-02-07 05:38:14</td>\n",
              "      <td>&lt;16703414.1075840015101.JavaMail.evans@thyme&gt;</td>\n",
              "      <td>Start Date: 2/7/02; HourAhead hour: 4;</td>\n",
              "      <td>X-FileName: Start Date: 2/7/02; HourAhead hour...</td>\n",
              "      <td>ExMerge - Dean, CraigInbox</td>\n",
              "    </tr>\n",
              "  </tbody>\n",
              "</table>\n",
              "<p>252759 rows × 7 columns</p>\n",
              "</div>\n",
              "      <button class=\"colab-df-convert\" onclick=\"convertToInteractive('df-f7d0bf0e-4afc-4a89-877c-2e69a0687667')\"\n",
              "              title=\"Convert this dataframe to an interactive table.\"\n",
              "              style=\"display:none;\">\n",
              "        \n",
              "  <svg xmlns=\"http://www.w3.org/2000/svg\" height=\"24px\"viewBox=\"0 0 24 24\"\n",
              "       width=\"24px\">\n",
              "    <path d=\"M0 0h24v24H0V0z\" fill=\"none\"/>\n",
              "    <path d=\"M18.56 5.44l.94 2.06.94-2.06 2.06-.94-2.06-.94-.94-2.06-.94 2.06-2.06.94zm-11 1L8.5 8.5l.94-2.06 2.06-.94-2.06-.94L8.5 2.5l-.94 2.06-2.06.94zm10 10l.94 2.06.94-2.06 2.06-.94-2.06-.94-.94-2.06-.94 2.06-2.06.94z\"/><path d=\"M17.41 7.96l-1.37-1.37c-.4-.4-.92-.59-1.43-.59-.52 0-1.04.2-1.43.59L10.3 9.45l-7.72 7.72c-.78.78-.78 2.05 0 2.83L4 21.41c.39.39.9.59 1.41.59.51 0 1.02-.2 1.41-.59l7.78-7.78 2.81-2.81c.8-.78.8-2.07 0-2.86zM5.41 20L4 18.59l7.72-7.72 1.47 1.35L5.41 20z\"/>\n",
              "  </svg>\n",
              "      </button>\n",
              "      \n",
              "  <style>\n",
              "    .colab-df-container {\n",
              "      display:flex;\n",
              "      flex-wrap:wrap;\n",
              "      gap: 12px;\n",
              "    }\n",
              "\n",
              "    .colab-df-convert {\n",
              "      background-color: #E8F0FE;\n",
              "      border: none;\n",
              "      border-radius: 50%;\n",
              "      cursor: pointer;\n",
              "      display: none;\n",
              "      fill: #1967D2;\n",
              "      height: 32px;\n",
              "      padding: 0 0 0 0;\n",
              "      width: 32px;\n",
              "    }\n",
              "\n",
              "    .colab-df-convert:hover {\n",
              "      background-color: #E2EBFA;\n",
              "      box-shadow: 0px 1px 2px rgba(60, 64, 67, 0.3), 0px 1px 3px 1px rgba(60, 64, 67, 0.15);\n",
              "      fill: #174EA6;\n",
              "    }\n",
              "\n",
              "    [theme=dark] .colab-df-convert {\n",
              "      background-color: #3B4455;\n",
              "      fill: #D2E3FC;\n",
              "    }\n",
              "\n",
              "    [theme=dark] .colab-df-convert:hover {\n",
              "      background-color: #434B5C;\n",
              "      box-shadow: 0px 1px 3px 1px rgba(0, 0, 0, 0.15);\n",
              "      filter: drop-shadow(0px 1px 2px rgba(0, 0, 0, 0.3));\n",
              "      fill: #FFFFFF;\n",
              "    }\n",
              "  </style>\n",
              "\n",
              "      <script>\n",
              "        const buttonEl =\n",
              "          document.querySelector('#df-f7d0bf0e-4afc-4a89-877c-2e69a0687667 button.colab-df-convert');\n",
              "        buttonEl.style.display =\n",
              "          google.colab.kernel.accessAllowed ? 'block' : 'none';\n",
              "\n",
              "        async function convertToInteractive(key) {\n",
              "          const element = document.querySelector('#df-f7d0bf0e-4afc-4a89-877c-2e69a0687667');\n",
              "          const dataTable =\n",
              "            await google.colab.kernel.invokeFunction('convertToInteractive',\n",
              "                                                     [key], {});\n",
              "          if (!dataTable) return;\n",
              "\n",
              "          const docLinkHtml = 'Like what you see? Visit the ' +\n",
              "            '<a target=\"_blank\" href=https://colab.research.google.com/notebooks/data_table.ipynb>data table notebook</a>'\n",
              "            + ' to learn more about interactive tables.';\n",
              "          element.innerHTML = '';\n",
              "          dataTable['output_type'] = 'display_data';\n",
              "          await google.colab.output.renderOutput(dataTable, element);\n",
              "          const docLink = document.createElement('div');\n",
              "          docLink.innerHTML = docLinkHtml;\n",
              "          element.appendChild(docLink);\n",
              "        }\n",
              "      </script>\n",
              "    </div>\n",
              "  </div>\n",
              "  "
            ]
          },
          "metadata": {},
          "execution_count": 12
        }
      ]
    },
    {
      "cell_type": "code",
      "source": [
        "#Checking for null values in the message_df\n",
        "message_df.info()"
      ],
      "metadata": {
        "id": "HE-lQxIbZNvc",
        "colab": {
          "base_uri": "https://localhost:8080/"
        },
        "outputId": "839d8269-6e76-4b17-f92a-b7c56078d835"
      },
      "execution_count": 13,
      "outputs": [
        {
          "output_type": "stream",
          "name": "stdout",
          "text": [
            "<class 'pandas.core.frame.DataFrame'>\n",
            "RangeIndex: 252759 entries, 0 to 252758\n",
            "Data columns (total 7 columns):\n",
            " #   Column      Non-Null Count   Dtype \n",
            "---  ------      --------------   ----- \n",
            " 0   mid         252759 non-null  int64 \n",
            " 1   sender      252759 non-null  object\n",
            " 2   date        252759 non-null  object\n",
            " 3   message_id  252759 non-null  object\n",
            " 4   subject     252759 non-null  object\n",
            " 5   body        252759 non-null  object\n",
            " 6   folder      252759 non-null  object\n",
            "dtypes: int64(1), object(6)\n",
            "memory usage: 13.5+ MB\n"
          ]
        }
      ]
    },
    {
      "cell_type": "markdown",
      "source": [
        "Since no null values were found,there is no need to clean the data before analysing it."
      ],
      "metadata": {
        "id": "LHIIG7zglHEy"
      }
    },
    {
      "cell_type": "markdown",
      "source": [
        "**Analysis and Visualisation of Enron Communication and Organisational Structure**"
      ],
      "metadata": {
        "id": "YbdQomrOTUzH"
      }
    },
    {
      "cell_type": "markdown",
      "source": [
        "**Email Traffic Over Time**"
      ],
      "metadata": {
        "id": "rLFEjM-iFJL3"
      }
    },
    {
      "cell_type": "code",
      "source": [
        "#writing an sql query to count number of emails per day\n",
        "sql=\"\"\"\n",
        "SELECT strftime('%Y-%m-%d', date) AS day , COUNT(*) AS email_count \n",
        "FROM message\n",
        "GROUP by day\n",
        "\"\"\"\n",
        "cur.execute(sql)\n",
        "#store the data in the result variable\n",
        "results = cur.fetchall()"
      ],
      "metadata": {
        "id": "RMXCP7CxlDBO"
      },
      "execution_count": 14,
      "outputs": []
    },
    {
      "cell_type": "code",
      "source": [
        "#Converting data in a DataFrame\n",
        "day_df = pd.DataFrame(results, columns=['day','email_count'])"
      ],
      "metadata": {
        "id": "W2wR5zfyDmBD"
      },
      "execution_count": 15,
      "outputs": []
    },
    {
      "cell_type": "code",
      "source": [
        "#Displaying the Dataframe\n",
        "day_df"
      ],
      "metadata": {
        "colab": {
          "base_uri": "https://localhost:8080/",
          "height": 423
        },
        "id": "ZXDZaf20Xcpz",
        "outputId": "b77b6a6d-c8d6-4c15-d494-d269bb3fbbff"
      },
      "execution_count": 16,
      "outputs": [
        {
          "output_type": "execute_result",
          "data": {
            "text/plain": [
              "             day  email_count\n",
              "0     0001-05-30            2\n",
              "1     0001-06-18            1\n",
              "2     0001-07-24            1\n",
              "3     0001-08-01            1\n",
              "4     0001-08-06            1\n",
              "...          ...          ...\n",
              "1318  2020-12-24            1\n",
              "1319  2020-12-29            1\n",
              "1320  2043-12-28            1\n",
              "1321  2044-01-02            1\n",
              "1322  2044-01-04            2\n",
              "\n",
              "[1323 rows x 2 columns]"
            ],
            "text/html": [
              "\n",
              "  <div id=\"df-43b8a78e-7f82-4fc8-9d51-5005712b9633\">\n",
              "    <div class=\"colab-df-container\">\n",
              "      <div>\n",
              "<style scoped>\n",
              "    .dataframe tbody tr th:only-of-type {\n",
              "        vertical-align: middle;\n",
              "    }\n",
              "\n",
              "    .dataframe tbody tr th {\n",
              "        vertical-align: top;\n",
              "    }\n",
              "\n",
              "    .dataframe thead th {\n",
              "        text-align: right;\n",
              "    }\n",
              "</style>\n",
              "<table border=\"1\" class=\"dataframe\">\n",
              "  <thead>\n",
              "    <tr style=\"text-align: right;\">\n",
              "      <th></th>\n",
              "      <th>day</th>\n",
              "      <th>email_count</th>\n",
              "    </tr>\n",
              "  </thead>\n",
              "  <tbody>\n",
              "    <tr>\n",
              "      <th>0</th>\n",
              "      <td>0001-05-30</td>\n",
              "      <td>2</td>\n",
              "    </tr>\n",
              "    <tr>\n",
              "      <th>1</th>\n",
              "      <td>0001-06-18</td>\n",
              "      <td>1</td>\n",
              "    </tr>\n",
              "    <tr>\n",
              "      <th>2</th>\n",
              "      <td>0001-07-24</td>\n",
              "      <td>1</td>\n",
              "    </tr>\n",
              "    <tr>\n",
              "      <th>3</th>\n",
              "      <td>0001-08-01</td>\n",
              "      <td>1</td>\n",
              "    </tr>\n",
              "    <tr>\n",
              "      <th>4</th>\n",
              "      <td>0001-08-06</td>\n",
              "      <td>1</td>\n",
              "    </tr>\n",
              "    <tr>\n",
              "      <th>...</th>\n",
              "      <td>...</td>\n",
              "      <td>...</td>\n",
              "    </tr>\n",
              "    <tr>\n",
              "      <th>1318</th>\n",
              "      <td>2020-12-24</td>\n",
              "      <td>1</td>\n",
              "    </tr>\n",
              "    <tr>\n",
              "      <th>1319</th>\n",
              "      <td>2020-12-29</td>\n",
              "      <td>1</td>\n",
              "    </tr>\n",
              "    <tr>\n",
              "      <th>1320</th>\n",
              "      <td>2043-12-28</td>\n",
              "      <td>1</td>\n",
              "    </tr>\n",
              "    <tr>\n",
              "      <th>1321</th>\n",
              "      <td>2044-01-02</td>\n",
              "      <td>1</td>\n",
              "    </tr>\n",
              "    <tr>\n",
              "      <th>1322</th>\n",
              "      <td>2044-01-04</td>\n",
              "      <td>2</td>\n",
              "    </tr>\n",
              "  </tbody>\n",
              "</table>\n",
              "<p>1323 rows × 2 columns</p>\n",
              "</div>\n",
              "      <button class=\"colab-df-convert\" onclick=\"convertToInteractive('df-43b8a78e-7f82-4fc8-9d51-5005712b9633')\"\n",
              "              title=\"Convert this dataframe to an interactive table.\"\n",
              "              style=\"display:none;\">\n",
              "        \n",
              "  <svg xmlns=\"http://www.w3.org/2000/svg\" height=\"24px\"viewBox=\"0 0 24 24\"\n",
              "       width=\"24px\">\n",
              "    <path d=\"M0 0h24v24H0V0z\" fill=\"none\"/>\n",
              "    <path d=\"M18.56 5.44l.94 2.06.94-2.06 2.06-.94-2.06-.94-.94-2.06-.94 2.06-2.06.94zm-11 1L8.5 8.5l.94-2.06 2.06-.94-2.06-.94L8.5 2.5l-.94 2.06-2.06.94zm10 10l.94 2.06.94-2.06 2.06-.94-2.06-.94-.94-2.06-.94 2.06-2.06.94z\"/><path d=\"M17.41 7.96l-1.37-1.37c-.4-.4-.92-.59-1.43-.59-.52 0-1.04.2-1.43.59L10.3 9.45l-7.72 7.72c-.78.78-.78 2.05 0 2.83L4 21.41c.39.39.9.59 1.41.59.51 0 1.02-.2 1.41-.59l7.78-7.78 2.81-2.81c.8-.78.8-2.07 0-2.86zM5.41 20L4 18.59l7.72-7.72 1.47 1.35L5.41 20z\"/>\n",
              "  </svg>\n",
              "      </button>\n",
              "      \n",
              "  <style>\n",
              "    .colab-df-container {\n",
              "      display:flex;\n",
              "      flex-wrap:wrap;\n",
              "      gap: 12px;\n",
              "    }\n",
              "\n",
              "    .colab-df-convert {\n",
              "      background-color: #E8F0FE;\n",
              "      border: none;\n",
              "      border-radius: 50%;\n",
              "      cursor: pointer;\n",
              "      display: none;\n",
              "      fill: #1967D2;\n",
              "      height: 32px;\n",
              "      padding: 0 0 0 0;\n",
              "      width: 32px;\n",
              "    }\n",
              "\n",
              "    .colab-df-convert:hover {\n",
              "      background-color: #E2EBFA;\n",
              "      box-shadow: 0px 1px 2px rgba(60, 64, 67, 0.3), 0px 1px 3px 1px rgba(60, 64, 67, 0.15);\n",
              "      fill: #174EA6;\n",
              "    }\n",
              "\n",
              "    [theme=dark] .colab-df-convert {\n",
              "      background-color: #3B4455;\n",
              "      fill: #D2E3FC;\n",
              "    }\n",
              "\n",
              "    [theme=dark] .colab-df-convert:hover {\n",
              "      background-color: #434B5C;\n",
              "      box-shadow: 0px 1px 3px 1px rgba(0, 0, 0, 0.15);\n",
              "      filter: drop-shadow(0px 1px 2px rgba(0, 0, 0, 0.3));\n",
              "      fill: #FFFFFF;\n",
              "    }\n",
              "  </style>\n",
              "\n",
              "      <script>\n",
              "        const buttonEl =\n",
              "          document.querySelector('#df-43b8a78e-7f82-4fc8-9d51-5005712b9633 button.colab-df-convert');\n",
              "        buttonEl.style.display =\n",
              "          google.colab.kernel.accessAllowed ? 'block' : 'none';\n",
              "\n",
              "        async function convertToInteractive(key) {\n",
              "          const element = document.querySelector('#df-43b8a78e-7f82-4fc8-9d51-5005712b9633');\n",
              "          const dataTable =\n",
              "            await google.colab.kernel.invokeFunction('convertToInteractive',\n",
              "                                                     [key], {});\n",
              "          if (!dataTable) return;\n",
              "\n",
              "          const docLinkHtml = 'Like what you see? Visit the ' +\n",
              "            '<a target=\"_blank\" href=https://colab.research.google.com/notebooks/data_table.ipynb>data table notebook</a>'\n",
              "            + ' to learn more about interactive tables.';\n",
              "          element.innerHTML = '';\n",
              "          dataTable['output_type'] = 'display_data';\n",
              "          await google.colab.output.renderOutput(dataTable, element);\n",
              "          const docLink = document.createElement('div');\n",
              "          docLink.innerHTML = docLinkHtml;\n",
              "          element.appendChild(docLink);\n",
              "        }\n",
              "      </script>\n",
              "    </div>\n",
              "  </div>\n",
              "  "
            ]
          },
          "metadata": {},
          "execution_count": 16
        }
      ]
    },
    {
      "cell_type": "code",
      "source": [
        "#importing pandas and matplotlib to plot the line graph\n",
        "import pandas as pd\n",
        "import matplotlib.pyplot as plt\n",
        "import seaborn as sns"
      ],
      "metadata": {
        "id": "GvThPpEYEKJn"
      },
      "execution_count": 17,
      "outputs": []
    },
    {
      "cell_type": "code",
      "source": [
        "#plotting the line graph\n",
        "fig= plt.subplots(figsize=(20,5))\n",
        "sns.lineplot(data = day_df,x=\"day\",y=\"email_count\")\n",
        "plt.title('Email_count Per Day')\n",
        "plt.show()\n",
        "\n"
      ],
      "metadata": {
        "colab": {
          "base_uri": "https://localhost:8080/",
          "height": 227
        },
        "id": "bCkshz6WFCGn",
        "outputId": "76d54fbe-2052-4dbf-b578-53256b6a6482"
      },
      "execution_count": 18,
      "outputs": [
        {
          "output_type": "display_data",
          "data": {
            "text/plain": [
              "<Figure size 2000x500 with 1 Axes>"
            ],
            "image/png": "[encoded data removed]"
          },
          "metadata": {}
        }
      ]
    },
    {
      "cell_type": "markdown",
      "source": [
        "**Analysis for Email_count Per Day**\n",
        "\n",
        "The code for the graph (fig= plt.subplots(figsize=(20,5)) has created a figure with a single sublot with dimension of 20 for the x-axis and dimension 5 for the y-axis.The code for the graph(sns.lineplot(data = day_df,x=\"day\",y=\"email_count\") has used the data from the day_df Dataframe to plot the graph and has use the values of day for the x-axis and the values of email_count for the y axis.\n",
        "\n",
        "From the graph, it can be noted that the number of emails is increasing as each day passes, and the highest number of emails for a day is over 2000 emails.\n",
        "the values of the graph keep on fluctuating.since there are a lot of values for the x-axis the values for day are not displayed properly making it difficult to draw accurate analysis."
      ],
      "metadata": {
        "id": "SGKLEoRU-Bkg"
      }
    },
    {
      "cell_type": "code",
      "source": [
        "#writing an sql query to count number of emails per month\n",
        "sql=\"\"\"\n",
        "SELECT strftime('%Y-%m', date) AS month , COUNT(*) AS email_count \n",
        "FROM message\n",
        "GROUP by month\n",
        "\"\"\"\n",
        "cur.execute(sql)\n",
        "results = cur.fetchall()"
      ],
      "metadata": {
        "id": "80t-0glYW-jz"
      },
      "execution_count": 19,
      "outputs": []
    },
    {
      "cell_type": "code",
      "source": [
        "#Convert data in a Dataframe\n",
        "month_df = pd.DataFrame(results, columns=['month','email_count'])"
      ],
      "metadata": {
        "id": "9j_NX1PUMyrQ"
      },
      "execution_count": 20,
      "outputs": []
    },
    {
      "cell_type": "code",
      "source": [
        "#Displaying the DataFrame\n",
        "month_df"
      ],
      "metadata": {
        "colab": {
          "base_uri": "https://localhost:8080/",
          "height": 423
        },
        "id": "wNt1ivlYX5dm",
        "outputId": "cf86b346-2d22-4141-952b-c8d94788ddb2"
      },
      "execution_count": 21,
      "outputs": [
        {
          "output_type": "execute_result",
          "data": {
            "text/plain": [
              "      month  email_count\n",
              "0   0001-05            2\n",
              "1   0001-06            1\n",
              "2   0001-07            1\n",
              "3   0001-08           12\n",
              "4   0001-09            9\n",
              "..      ...          ...\n",
              "63  2004-02           53\n",
              "64  2007-02            1\n",
              "65  2020-12            2\n",
              "66  2043-12            1\n",
              "67  2044-01            3\n",
              "\n",
              "[68 rows x 2 columns]"
            ],
            "text/html": [
              "\n",
              "  <div id=\"df-131e55cb-4a29-4808-a5d5-0fb3bb4887f1\">\n",
              "    <div class=\"colab-df-container\">\n",
              "      <div>\n",
              "<style scoped>\n",
              "    .dataframe tbody tr th:only-of-type {\n",
              "        vertical-align: middle;\n",
              "    }\n",
              "\n",
              "    .dataframe tbody tr th {\n",
              "        vertical-align: top;\n",
              "    }\n",
              "\n",
              "    .dataframe thead th {\n",
              "        text-align: right;\n",
              "    }\n",
              "</style>\n",
              "<table border=\"1\" class=\"dataframe\">\n",
              "  <thead>\n",
              "    <tr style=\"text-align: right;\">\n",
              "      <th></th>\n",
              "      <th>month</th>\n",
              "      <th>email_count</th>\n",
              "    </tr>\n",
              "  </thead>\n",
              "  <tbody>\n",
              "    <tr>\n",
              "      <th>0</th>\n",
              "      <td>0001-05</td>\n",
              "      <td>2</td>\n",
              "    </tr>\n",
              "    <tr>\n",
              "      <th>1</th>\n",
              "      <td>0001-06</td>\n",
              "      <td>1</td>\n",
              "    </tr>\n",
              "    <tr>\n",
              "      <th>2</th>\n",
              "      <td>0001-07</td>\n",
              "      <td>1</td>\n",
              "    </tr>\n",
              "    <tr>\n",
              "      <th>3</th>\n",
              "      <td>0001-08</td>\n",
              "      <td>12</td>\n",
              "    </tr>\n",
              "    <tr>\n",
              "      <th>4</th>\n",
              "      <td>0001-09</td>\n",
              "      <td>9</td>\n",
              "    </tr>\n",
              "    <tr>\n",
              "      <th>...</th>\n",
              "      <td>...</td>\n",
              "      <td>...</td>\n",
              "    </tr>\n",
              "    <tr>\n",
              "      <th>63</th>\n",
              "      <td>2004-02</td>\n",
              "      <td>53</td>\n",
              "    </tr>\n",
              "    <tr>\n",
              "      <th>64</th>\n",
              "      <td>2007-02</td>\n",
              "      <td>1</td>\n",
              "    </tr>\n",
              "    <tr>\n",
              "      <th>65</th>\n",
              "      <td>2020-12</td>\n",
              "      <td>2</td>\n",
              "    </tr>\n",
              "    <tr>\n",
              "      <th>66</th>\n",
              "      <td>2043-12</td>\n",
              "      <td>1</td>\n",
              "    </tr>\n",
              "    <tr>\n",
              "      <th>67</th>\n",
              "      <td>2044-01</td>\n",
              "      <td>3</td>\n",
              "    </tr>\n",
              "  </tbody>\n",
              "</table>\n",
              "<p>68 rows × 2 columns</p>\n",
              "</div>\n",
              "      <button class=\"colab-df-convert\" onclick=\"convertToInteractive('df-131e55cb-4a29-4808-a5d5-0fb3bb4887f1')\"\n",
              "              title=\"Convert this dataframe to an interactive table.\"\n",
              "              style=\"display:none;\">\n",
              "        \n",
              "  <svg xmlns=\"http://www.w3.org/2000/svg\" height=\"24px\"viewBox=\"0 0 24 24\"\n",
              "       width=\"24px\">\n",
              "    <path d=\"M0 0h24v24H0V0z\" fill=\"none\"/>\n",
              "    <path d=\"M18.56 5.44l.94 2.06.94-2.06 2.06-.94-2.06-.94-.94-2.06-.94 2.06-2.06.94zm-11 1L8.5 8.5l.94-2.06 2.06-.94-2.06-.94L8.5 2.5l-.94 2.06-2.06.94zm10 10l.94 2.06.94-2.06 2.06-.94-2.06-.94-.94-2.06-.94 2.06-2.06.94z\"/><path d=\"M17.41 7.96l-1.37-1.37c-.4-.4-.92-.59-1.43-.59-.52 0-1.04.2-1.43.59L10.3 9.45l-7.72 7.72c-.78.78-.78 2.05 0 2.83L4 21.41c.39.39.9.59 1.41.59.51 0 1.02-.2 1.41-.59l7.78-7.78 2.81-2.81c.8-.78.8-2.07 0-2.86zM5.41 20L4 18.59l7.72-7.72 1.47 1.35L5.41 20z\"/>\n",
              "  </svg>\n",
              "      </button>\n",
              "      \n",
              "  <style>\n",
              "    .colab-df-container {\n",
              "      display:flex;\n",
              "      flex-wrap:wrap;\n",
              "      gap: 12px;\n",
              "    }\n",
              "\n",
              "    .colab-df-convert {\n",
              "      background-color: #E8F0FE;\n",
              "      border: none;\n",
              "      border-radius: 50%;\n",
              "      cursor: pointer;\n",
              "      display: none;\n",
              "      fill: #1967D2;\n",
              "      height: 32px;\n",
              "      padding: 0 0 0 0;\n",
              "      width: 32px;\n",
              "    }\n",
              "\n",
              "    .colab-df-convert:hover {\n",
              "      background-color: #E2EBFA;\n",
              "      box-shadow: 0px 1px 2px rgba(60, 64, 67, 0.3), 0px 1px 3px 1px rgba(60, 64, 67, 0.15);\n",
              "      fill: #174EA6;\n",
              "    }\n",
              "\n",
              "    [theme=dark] .colab-df-convert {\n",
              "      background-color: #3B4455;\n",
              "      fill: #D2E3FC;\n",
              "    }\n",
              "\n",
              "    [theme=dark] .colab-df-convert:hover {\n",
              "      background-color: #434B5C;\n",
              "      box-shadow: 0px 1px 3px 1px rgba(0, 0, 0, 0.15);\n",
              "      filter: drop-shadow(0px 1px 2px rgba(0, 0, 0, 0.3));\n",
              "      fill: #FFFFFF;\n",
              "    }\n",
              "  </style>\n",
              "\n",
              "      <script>\n",
              "        const buttonEl =\n",
              "          document.querySelector('#df-131e55cb-4a29-4808-a5d5-0fb3bb4887f1 button.colab-df-convert');\n",
              "        buttonEl.style.display =\n",
              "          google.colab.kernel.accessAllowed ? 'block' : 'none';\n",
              "\n",
              "        async function convertToInteractive(key) {\n",
              "          const element = document.querySelector('#df-131e55cb-4a29-4808-a5d5-0fb3bb4887f1');\n",
              "          const dataTable =\n",
              "            await google.colab.kernel.invokeFunction('convertToInteractive',\n",
              "                                                     [key], {});\n",
              "          if (!dataTable) return;\n",
              "\n",
              "          const docLinkHtml = 'Like what you see? Visit the ' +\n",
              "            '<a target=\"_blank\" href=https://colab.research.google.com/notebooks/data_table.ipynb>data table notebook</a>'\n",
              "            + ' to learn more about interactive tables.';\n",
              "          element.innerHTML = '';\n",
              "          dataTable['output_type'] = 'display_data';\n",
              "          await google.colab.output.renderOutput(dataTable, element);\n",
              "          const docLink = document.createElement('div');\n",
              "          docLink.innerHTML = docLinkHtml;\n",
              "          element.appendChild(docLink);\n",
              "        }\n",
              "      </script>\n",
              "    </div>\n",
              "  </div>\n",
              "  "
            ]
          },
          "metadata": {},
          "execution_count": 21
        }
      ]
    },
    {
      "cell_type": "code",
      "source": [
        "#importing pandas and matplotlib to plot the line graph\n",
        "import pandas as pd\n",
        "import matplotlib.pyplot as plt\n",
        "import seaborn as sns"
      ],
      "metadata": {
        "id": "Zdip9H4-NVFi"
      },
      "execution_count": 22,
      "outputs": []
    },
    {
      "cell_type": "code",
      "source": [
        "#plotting the line graph\n",
        "fig= plt.subplots(figsize=(15,5))\n",
        "sns.lineplot(data = month_df,x=\"month\",y=\"email_count\")\n",
        "plt.xticks(rotation= 60)\n",
        "plt.title(\"Email_count Per Month\")\n",
        "plt.show()"
      ],
      "metadata": {
        "colab": {
          "base_uri": "https://localhost:8080/",
          "height": 316
        },
        "id": "5bSf5xh2Nvfl",
        "outputId": "59d1dcfb-c049-4c6e-ea39-73845a99bb8a"
      },
      "execution_count": 23,
      "outputs": [
        {
          "output_type": "display_data",
          "data": {
            "text/plain": [
              "<Figure size 1500x500 with 1 Axes>"
            ],
            "image/png": "[encoded data removed]"
          },
          "metadata": {}
        }
      ]
    },
    {
      "cell_type": "code",
      "source": [],
      "metadata": {
        "id": "mfpuPgMe_T0t"
      },
      "execution_count": null,
      "outputs": []
    },
    {
      "cell_type": "markdown",
      "source": [
        "**Analysis for Email_count Per month**\n",
        "\n",
        "From the code (fig= plt.subplots(figsize=(15,5)),a graph with a single subplot is created and its has set the dimension for the x-axis at 15 and the dimension of the y-axis at 5.The code for the graph(sns.lineplot(data = month_df,x=\"day\",y=\"email_count\") has used the data from the month_df Dataframe to plot the graph and has use the values of month for the x-axis and the values of email_count for the y axis. The code (plt.xticks(rotation=60)) makes the values of the x-axis to rotate at an angle of 60 degree making the data more visible on the graph .Hence,Analysis can be performed more easily.\n",
        "\n",
        " It can be noted that the email count increases constantly at first and then has a steep increase and then start to decrease towards the end.The maximun value for the email_count per month is over 30000."
      ],
      "metadata": {
        "id": "sTzOvH-7_kXC"
      }
    },
    {
      "cell_type": "code",
      "source": [
        "#writing an sql query to count number of emails per week\n",
        "sql=\"\"\"\n",
        "SELECT strftime('%Y-%w', date) AS week , COUNT(*) AS email_count \n",
        "FROM message\n",
        "GROUP by week\n",
        "\"\"\"\n",
        "cur.execute(sql)\n",
        "results = cur.fetchall()"
      ],
      "metadata": {
        "id": "WtwHOpe6W-Jn"
      },
      "execution_count": 24,
      "outputs": []
    },
    {
      "cell_type": "code",
      "source": [
        "#Convert data into Dataframe for the query\n",
        "week_df = pd.DataFrame(results, columns=['week','email_count'])"
      ],
      "metadata": {
        "id": "Wkw-YnuaDXuR"
      },
      "execution_count": 25,
      "outputs": []
    },
    {
      "cell_type": "code",
      "source": [
        "#Displaying the DataFrame\n",
        "week_df"
      ],
      "metadata": {
        "colab": {
          "base_uri": "https://localhost:8080/",
          "height": 1000
        },
        "id": "vXtiiA2BYDVA",
        "outputId": "c4799c63-e0e1-49d4-fac1-0317061cd970"
      },
      "execution_count": 26,
      "outputs": [
        {
          "output_type": "execute_result",
          "data": {
            "text/plain": [
              "      week  email_count\n",
              "0   0001-0            4\n",
              "1   0001-1           72\n",
              "2   0001-2           39\n",
              "3   0001-3           27\n",
              "4   0001-4           31\n",
              "5   0001-5           31\n",
              "6   0001-6            1\n",
              "7   0002-1            9\n",
              "8   0002-2           14\n",
              "9   0002-3            6\n",
              "10  0002-4           13\n",
              "11  0002-5           11\n",
              "12  1979-1            6\n",
              "13  1997-3            1\n",
              "14  1998-0            1\n",
              "15  1998-1           14\n",
              "16  1998-2           10\n",
              "17  1998-3           27\n",
              "18  1998-4           18\n",
              "19  1998-5           14\n",
              "20  1998-6            1\n",
              "21  1999-0           75\n",
              "22  1999-1         1005\n",
              "23  1999-2          978\n",
              "24  1999-3          919\n",
              "25  1999-4          945\n",
              "26  1999-5          810\n",
              "27  1999-6           28\n",
              "28  2000-0         1528\n",
              "29  2000-1        13473\n",
              "30  2000-2        14487\n",
              "31  2000-3        14329\n",
              "32  2000-4        12709\n",
              "33  2000-5        11520\n",
              "34  2000-6          661\n",
              "35  2001-0         4311\n",
              "36  2001-1        31656\n",
              "37  2001-2        32333\n",
              "38  2001-3        31174\n",
              "39  2001-4        28834\n",
              "40  2001-5        25773\n",
              "41  2001-6         2239\n",
              "42  2002-0          333\n",
              "43  2002-1         3810\n",
              "44  2002-2         4379\n",
              "45  2002-3         6061\n",
              "46  2002-4         4097\n",
              "47  2002-5         3629\n",
              "48  2002-6          253\n",
              "49  2004-2           53\n",
              "50  2007-0            1\n",
              "51  2020-2            1\n",
              "52  2020-4            1\n",
              "53  2043-1            1\n",
              "54  2044-1            2\n",
              "55  2044-6            1"
            ],
            "text/html": [
              "\n",
              "  <div id=\"df-cd025718-5829-4943-9464-da0a4c1971c1\">\n",
              "    <div class=\"colab-df-container\">\n",
              "      <div>\n",
              "<style scoped>\n",
              "    .dataframe tbody tr th:only-of-type {\n",
              "        vertical-align: middle;\n",
              "    }\n",
              "\n",
              "    .dataframe tbody tr th {\n",
              "        vertical-align: top;\n",
              "    }\n",
              "\n",
              "    .dataframe thead th {\n",
              "        text-align: right;\n",
              "    }\n",
              "</style>\n",
              "<table border=\"1\" class=\"dataframe\">\n",
              "  <thead>\n",
              "    <tr style=\"text-align: right;\">\n",
              "      <th></th>\n",
              "      <th>week</th>\n",
              "      <th>email_count</th>\n",
              "    </tr>\n",
              "  </thead>\n",
              "  <tbody>\n",
              "    <tr>\n",
              "      <th>0</th>\n",
              "      <td>0001-0</td>\n",
              "      <td>4</td>\n",
              "    </tr>\n",
              "    <tr>\n",
              "      <th>1</th>\n",
              "      <td>0001-1</td>\n",
              "      <td>72</td>\n",
              "    </tr>\n",
              "    <tr>\n",
              "      <th>2</th>\n",
              "      <td>0001-2</td>\n",
              "      <td>39</td>\n",
              "    </tr>\n",
              "    <tr>\n",
              "      <th>3</th>\n",
              "      <td>0001-3</td>\n",
              "      <td>27</td>\n",
              "    </tr>\n",
              "    <tr>\n",
              "      <th>4</th>\n",
              "      <td>0001-4</td>\n",
              "      <td>31</td>\n",
              "    </tr>\n",
              "    <tr>\n",
              "      <th>5</th>\n",
              "      <td>0001-5</td>\n",
              "      <td>31</td>\n",
              "    </tr>\n",
              "    <tr>\n",
              "      <th>6</th>\n",
              "      <td>0001-6</td>\n",
              "      <td>1</td>\n",
              "    </tr>\n",
              "    <tr>\n",
              "      <th>7</th>\n",
              "      <td>0002-1</td>\n",
              "      <td>9</td>\n",
              "    </tr>\n",
              "    <tr>\n",
              "      <th>8</th>\n",
              "      <td>0002-2</td>\n",
              "      <td>14</td>\n",
              "    </tr>\n",
              "    <tr>\n",
              "      <th>9</th>\n",
              "      <td>0002-3</td>\n",
              "      <td>6</td>\n",
              "    </tr>\n",
              "    <tr>\n",
              "      <th>10</th>\n",
              "      <td>0002-4</td>\n",
              "      <td>13</td>\n",
              "    </tr>\n",
              "    <tr>\n",
              "      <th>11</th>\n",
              "      <td>0002-5</td>\n",
              "      <td>11</td>\n",
              "    </tr>\n",
              "    <tr>\n",
              "      <th>12</th>\n",
              "      <td>1979-1</td>\n",
              "      <td>6</td>\n",
              "    </tr>\n",
              "    <tr>\n",
              "      <th>13</th>\n",
              "      <td>1997-3</td>\n",
              "      <td>1</td>\n",
              "    </tr>\n",
              "    <tr>\n",
              "      <th>14</th>\n",
              "      <td>1998-0</td>\n",
              "      <td>1</td>\n",
              "    </tr>\n",
              "    <tr>\n",
              "      <th>15</th>\n",
              "      <td>1998-1</td>\n",
              "      <td>14</td>\n",
              "    </tr>\n",
              "    <tr>\n",
              "      <th>16</th>\n",
              "      <td>1998-2</td>\n",
              "      <td>10</td>\n",
              "    </tr>\n",
              "    <tr>\n",
              "      <th>17</th>\n",
              "      <td>1998-3</td>\n",
              "      <td>27</td>\n",
              "    </tr>\n",
              "    <tr>\n",
              "      <th>18</th>\n",
              "      <td>1998-4</td>\n",
              "      <td>18</td>\n",
              "    </tr>\n",
              "    <tr>\n",
              "      <th>19</th>\n",
              "      <td>1998-5</td>\n",
              "      <td>14</td>\n",
              "    </tr>\n",
              "    <tr>\n",
              "      <th>20</th>\n",
              "      <td>1998-6</td>\n",
              "      <td>1</td>\n",
              "    </tr>\n",
              "    <tr>\n",
              "      <th>21</th>\n",
              "      <td>1999-0</td>\n",
              "      <td>75</td>\n",
              "    </tr>\n",
              "    <tr>\n",
              "      <th>22</th>\n",
              "      <td>1999-1</td>\n",
              "      <td>1005</td>\n",
              "    </tr>\n",
              "    <tr>\n",
              "      <th>23</th>\n",
              "      <td>1999-2</td>\n",
              "      <td>978</td>\n",
              "    </tr>\n",
              "    <tr>\n",
              "      <th>24</th>\n",
              "      <td>1999-3</td>\n",
              "      <td>919</td>\n",
              "    </tr>\n",
              "    <tr>\n",
              "      <th>25</th>\n",
              "      <td>1999-4</td>\n",
              "      <td>945</td>\n",
              "    </tr>\n",
              "    <tr>\n",
              "      <th>26</th>\n",
              "      <td>1999-5</td>\n",
              "      <td>810</td>\n",
              "    </tr>\n",
              "    <tr>\n",
              "      <th>27</th>\n",
              "      <td>1999-6</td>\n",
              "      <td>28</td>\n",
              "    </tr>\n",
              "    <tr>\n",
              "      <th>28</th>\n",
              "      <td>2000-0</td>\n",
              "      <td>1528</td>\n",
              "    </tr>\n",
              "    <tr>\n",
              "      <th>29</th>\n",
              "      <td>2000-1</td>\n",
              "      <td>13473</td>\n",
              "    </tr>\n",
              "    <tr>\n",
              "      <th>30</th>\n",
              "      <td>2000-2</td>\n",
              "      <td>14487</td>\n",
              "    </tr>\n",
              "    <tr>\n",
              "      <th>31</th>\n",
              "      <td>2000-3</td>\n",
              "      <td>14329</td>\n",
              "    </tr>\n",
              "    <tr>\n",
              "      <th>32</th>\n",
              "      <td>2000-4</td>\n",
              "      <td>12709</td>\n",
              "    </tr>\n",
              "    <tr>\n",
              "      <th>33</th>\n",
              "      <td>2000-5</td>\n",
              "      <td>11520</td>\n",
              "    </tr>\n",
              "    <tr>\n",
              "      <th>34</th>\n",
              "      <td>2000-6</td>\n",
              "      <td>661</td>\n",
              "    </tr>\n",
              "    <tr>\n",
              "      <th>35</th>\n",
              "      <td>2001-0</td>\n",
              "      <td>4311</td>\n",
              "    </tr>\n",
              "    <tr>\n",
              "      <th>36</th>\n",
              "      <td>2001-1</td>\n",
              "      <td>31656</td>\n",
              "    </tr>\n",
              "    <tr>\n",
              "      <th>37</th>\n",
              "      <td>2001-2</td>\n",
              "      <td>32333</td>\n",
              "    </tr>\n",
              "    <tr>\n",
              "      <th>38</th>\n",
              "      <td>2001-3</td>\n",
              "      <td>31174</td>\n",
              "    </tr>\n",
              "    <tr>\n",
              "      <th>39</th>\n",
              "      <td>2001-4</td>\n",
              "      <td>28834</td>\n",
              "    </tr>\n",
              "    <tr>\n",
              "      <th>40</th>\n",
              "      <td>2001-5</td>\n",
              "      <td>25773</td>\n",
              "    </tr>\n",
              "    <tr>\n",
              "      <th>41</th>\n",
              "      <td>2001-6</td>\n",
              "      <td>2239</td>\n",
              "    </tr>\n",
              "    <tr>\n",
              "      <th>42</th>\n",
              "      <td>2002-0</td>\n",
              "      <td>333</td>\n",
              "    </tr>\n",
              "    <tr>\n",
              "      <th>43</th>\n",
              "      <td>2002-1</td>\n",
              "      <td>3810</td>\n",
              "    </tr>\n",
              "    <tr>\n",
              "      <th>44</th>\n",
              "      <td>2002-2</td>\n",
              "      <td>4379</td>\n",
              "    </tr>\n",
              "    <tr>\n",
              "      <th>45</th>\n",
              "      <td>2002-3</td>\n",
              "      <td>6061</td>\n",
              "    </tr>\n",
              "    <tr>\n",
              "      <th>46</th>\n",
              "      <td>2002-4</td>\n",
              "      <td>4097</td>\n",
              "    </tr>\n",
              "    <tr>\n",
              "      <th>47</th>\n",
              "      <td>2002-5</td>\n",
              "      <td>3629</td>\n",
              "    </tr>\n",
              "    <tr>\n",
              "      <th>48</th>\n",
              "      <td>2002-6</td>\n",
              "      <td>253</td>\n",
              "    </tr>\n",
              "    <tr>\n",
              "      <th>49</th>\n",
              "      <td>2004-2</td>\n",
              "      <td>53</td>\n",
              "    </tr>\n",
              "    <tr>\n",
              "      <th>50</th>\n",
              "      <td>2007-0</td>\n",
              "      <td>1</td>\n",
              "    </tr>\n",
              "    <tr>\n",
              "      <th>51</th>\n",
              "      <td>2020-2</td>\n",
              "      <td>1</td>\n",
              "    </tr>\n",
              "    <tr>\n",
              "      <th>52</th>\n",
              "      <td>2020-4</td>\n",
              "      <td>1</td>\n",
              "    </tr>\n",
              "    <tr>\n",
              "      <th>53</th>\n",
              "      <td>2043-1</td>\n",
              "      <td>1</td>\n",
              "    </tr>\n",
              "    <tr>\n",
              "      <th>54</th>\n",
              "      <td>2044-1</td>\n",
              "      <td>2</td>\n",
              "    </tr>\n",
              "    <tr>\n",
              "      <th>55</th>\n",
              "      <td>2044-6</td>\n",
              "      <td>1</td>\n",
              "    </tr>\n",
              "  </tbody>\n",
              "</table>\n",
              "</div>\n",
              "      <button class=\"colab-df-convert\" onclick=\"convertToInteractive('df-cd025718-5829-4943-9464-da0a4c1971c1')\"\n",
              "              title=\"Convert this dataframe to an interactive table.\"\n",
              "              style=\"display:none;\">\n",
              "        \n",
              "  <svg xmlns=\"http://www.w3.org/2000/svg\" height=\"24px\"viewBox=\"0 0 24 24\"\n",
              "       width=\"24px\">\n",
              "    <path d=\"M0 0h24v24H0V0z\" fill=\"none\"/>\n",
              "    <path d=\"M18.56 5.44l.94 2.06.94-2.06 2.06-.94-2.06-.94-.94-2.06-.94 2.06-2.06.94zm-11 1L8.5 8.5l.94-2.06 2.06-.94-2.06-.94L8.5 2.5l-.94 2.06-2.06.94zm10 10l.94 2.06.94-2.06 2.06-.94-2.06-.94-.94-2.06-.94 2.06-2.06.94z\"/><path d=\"M17.41 7.96l-1.37-1.37c-.4-.4-.92-.59-1.43-.59-.52 0-1.04.2-1.43.59L10.3 9.45l-7.72 7.72c-.78.78-.78 2.05 0 2.83L4 21.41c.39.39.9.59 1.41.59.51 0 1.02-.2 1.41-.59l7.78-7.78 2.81-2.81c.8-.78.8-2.07 0-2.86zM5.41 20L4 18.59l7.72-7.72 1.47 1.35L5.41 20z\"/>\n",
              "  </svg>\n",
              "      </button>\n",
              "      \n",
              "  <style>\n",
              "    .colab-df-container {\n",
              "      display:flex;\n",
              "      flex-wrap:wrap;\n",
              "      gap: 12px;\n",
              "    }\n",
              "\n",
              "    .colab-df-convert {\n",
              "      background-color: #E8F0FE;\n",
              "      border: none;\n",
              "      border-radius: 50%;\n",
              "      cursor: pointer;\n",
              "      display: none;\n",
              "      fill: #1967D2;\n",
              "      height: 32px;\n",
              "      padding: 0 0 0 0;\n",
              "      width: 32px;\n",
              "    }\n",
              "\n",
              "    .colab-df-convert:hover {\n",
              "      background-color: #E2EBFA;\n",
              "      box-shadow: 0px 1px 2px rgba(60, 64, 67, 0.3), 0px 1px 3px 1px rgba(60, 64, 67, 0.15);\n",
              "      fill: #174EA6;\n",
              "    }\n",
              "\n",
              "    [theme=dark] .colab-df-convert {\n",
              "      background-color: #3B4455;\n",
              "      fill: #D2E3FC;\n",
              "    }\n",
              "\n",
              "    [theme=dark] .colab-df-convert:hover {\n",
              "      background-color: #434B5C;\n",
              "      box-shadow: 0px 1px 3px 1px rgba(0, 0, 0, 0.15);\n",
              "      filter: drop-shadow(0px 1px 2px rgba(0, 0, 0, 0.3));\n",
              "      fill: #FFFFFF;\n",
              "    }\n",
              "  </style>\n",
              "\n",
              "      <script>\n",
              "        const buttonEl =\n",
              "          document.querySelector('#df-cd025718-5829-4943-9464-da0a4c1971c1 button.colab-df-convert');\n",
              "        buttonEl.style.display =\n",
              "          google.colab.kernel.accessAllowed ? 'block' : 'none';\n",
              "\n",
              "        async function convertToInteractive(key) {\n",
              "          const element = document.querySelector('#df-cd025718-5829-4943-9464-da0a4c1971c1');\n",
              "          const dataTable =\n",
              "            await google.colab.kernel.invokeFunction('convertToInteractive',\n",
              "                                                     [key], {});\n",
              "          if (!dataTable) return;\n",
              "\n",
              "          const docLinkHtml = 'Like what you see? Visit the ' +\n",
              "            '<a target=\"_blank\" href=https://colab.research.google.com/notebooks/data_table.ipynb>data table notebook</a>'\n",
              "            + ' to learn more about interactive tables.';\n",
              "          element.innerHTML = '';\n",
              "          dataTable['output_type'] = 'display_data';\n",
              "          await google.colab.output.renderOutput(dataTable, element);\n",
              "          const docLink = document.createElement('div');\n",
              "          docLink.innerHTML = docLinkHtml;\n",
              "          element.appendChild(docLink);\n",
              "        }\n",
              "      </script>\n",
              "    </div>\n",
              "  </div>\n",
              "  "
            ]
          },
          "metadata": {},
          "execution_count": 26
        }
      ]
    },
    {
      "cell_type": "code",
      "source": [
        "#using matplotlib  and pandas to perform visualisation of data\n",
        "import pandas as pd\n",
        "import matplotlib.pyplot as plt  "
      ],
      "metadata": {
        "id": "9mpnvlNWlGyQ"
      },
      "execution_count": 27,
      "outputs": []
    },
    {
      "cell_type": "code",
      "source": [
        "#plotting the line graph\n",
        "fig= plt.subplots(figsize=(15,5))\n",
        "sns.lineplot(data = week_df,x=\"week\",y=\"email_count\")\n",
        "plt.xticks(rotation= 60)\n",
        "plt.title('Email_count Per Week')\n",
        "plt.show()"
      ],
      "metadata": {
        "id": "CSY9zMLYljWb",
        "colab": {
          "base_uri": "https://localhost:8080/",
          "height": 312
        },
        "outputId": "9e7c93e8-f7ce-4403-84fb-46ce50a989be"
      },
      "execution_count": 28,
      "outputs": [
        {
          "output_type": "display_data",
          "data": {
            "text/plain": [
              "<Figure size 1500x500 with 1 Axes>"
            ],
            "image/png": "[encoded data removed]"
          },
          "metadata": {}
        }
      ]
    },
    {
      "cell_type": "markdown",
      "source": [
        "**Analysis of Email_count per week**\n",
        "\n",
        "The code for the graph (fig= plt.subplots(figsize=(15,5)),creates a figure with a single subplot and sets the dimension of 15 for the x-axis and the dimension of 5 for the y-axis.The code for the graph(sns.lineplot(data = week_df,x=\"week\",y=\"email_count\") has used the data from the week_df Dataframe to plot the graph and has use the values of week for the x-axis and the values of email_count for the y axis. The code (plt.xticks(rotation=60)) makes the values of the x-axis to rotate at an angle of 60 degree making the data more visible on the graph .Hence,Analysis can be performed more easily.\n",
        "\n",
        " From the graph it can be noted that for the first few weeks the number of emails remain contant and then it has started to increase and decrease steeply ,the maximun number of emails per week is over 30000."
      ],
      "metadata": {
        "id": "K4zt8gIqAtWw"
      }
    },
    {
      "cell_type": "markdown",
      "source": [
        "**Top Senders and Recipients**"
      ],
      "metadata": {
        "id": "fjSxBoJVJ18b"
      }
    },
    {
      "cell_type": "code",
      "source": [
        "#Sql query to find sender with highest email count\n",
        "sender_query = '''\n",
        "    SELECT sender, COUNT(*) AS sender_email_count\n",
        "    FROM (\n",
        "        SELECT sender\n",
        "        FROM Message m\n",
        "        ) AS sender_subquery\n",
        "    GROUP BY sender\n",
        "    ORDER BY sender_email_count DESC\n",
        "    LIMIT 10\n",
        "    ;\n",
        "'''\n",
        "#Convert data into DataFrame \n",
        "sender_df = pd.read_sql_query(sender_query,conn)\n",
        "\n",
        "#display DataFrame\n",
        "sender_df\n"
      ],
      "metadata": {
        "colab": {
          "base_uri": "https://localhost:8080/",
          "height": 363
        },
        "id": "kFtI183U5uk-",
        "outputId": "bd5fcad6-b6ee-4869-e981-3a14ac4a3e5e"
      },
      "execution_count": 29,
      "outputs": [
        {
          "output_type": "execute_result",
          "data": {
            "text/plain": [
              "                          sender  sender_email_count\n",
              "0        jeff.dasovich@enron.com                6273\n",
              "1           j.kaminski@enron.com                5838\n",
              "2             kay.mann@enron.com                5100\n",
              "3      sara.shackleton@enron.com                4797\n",
              "4           tana.jones@enron.com                4437\n",
              "5        chris.germany@enron.com                3686\n",
              "6           no.address@enron.com                3511\n",
              "7  enron.announcements@enron.com                2838\n",
              "8      matthew.lenhart@enron.com                2784\n",
              "9    debra.perlingiere@enron.com                2549"
            ],
            "text/html": [
              "\n",
              "  <div id=\"df-4ca0e3d0-74a1-4710-b01e-6d103d27a00a\">\n",
              "    <div class=\"colab-df-container\">\n",
              "      <div>\n",
              "<style scoped>\n",
              "    .dataframe tbody tr th:only-of-type {\n",
              "        vertical-align: middle;\n",
              "    }\n",
              "\n",
              "    .dataframe tbody tr th {\n",
              "        vertical-align: top;\n",
              "    }\n",
              "\n",
              "    .dataframe thead th {\n",
              "        text-align: right;\n",
              "    }\n",
              "</style>\n",
              "<table border=\"1\" class=\"dataframe\">\n",
              "  <thead>\n",
              "    <tr style=\"text-align: right;\">\n",
              "      <th></th>\n",
              "      <th>sender</th>\n",
              "      <th>sender_email_count</th>\n",
              "    </tr>\n",
              "  </thead>\n",
              "  <tbody>\n",
              "    <tr>\n",
              "      <th>0</th>\n",
              "      <td>jeff.dasovich@enron.com</td>\n",
              "      <td>6273</td>\n",
              "    </tr>\n",
              "    <tr>\n",
              "      <th>1</th>\n",
              "      <td>j.kaminski@enron.com</td>\n",
              "      <td>5838</td>\n",
              "    </tr>\n",
              "    <tr>\n",
              "      <th>2</th>\n",
              "      <td>kay.mann@enron.com</td>\n",
              "      <td>5100</td>\n",
              "    </tr>\n",
              "    <tr>\n",
              "      <th>3</th>\n",
              "      <td>sara.shackleton@enron.com</td>\n",
              "      <td>4797</td>\n",
              "    </tr>\n",
              "    <tr>\n",
              "      <th>4</th>\n",
              "      <td>tana.jones@enron.com</td>\n",
              "      <td>4437</td>\n",
              "    </tr>\n",
              "    <tr>\n",
              "      <th>5</th>\n",
              "      <td>chris.germany@enron.com</td>\n",
              "      <td>3686</td>\n",
              "    </tr>\n",
              "    <tr>\n",
              "      <th>6</th>\n",
              "      <td>no.address@enron.com</td>\n",
              "      <td>3511</td>\n",
              "    </tr>\n",
              "    <tr>\n",
              "      <th>7</th>\n",
              "      <td>enron.announcements@enron.com</td>\n",
              "      <td>2838</td>\n",
              "    </tr>\n",
              "    <tr>\n",
              "      <th>8</th>\n",
              "      <td>matthew.lenhart@enron.com</td>\n",
              "      <td>2784</td>\n",
              "    </tr>\n",
              "    <tr>\n",
              "      <th>9</th>\n",
              "      <td>debra.perlingiere@enron.com</td>\n",
              "      <td>2549</td>\n",
              "    </tr>\n",
              "  </tbody>\n",
              "</table>\n",
              "</div>\n",
              "      <button class=\"colab-df-convert\" onclick=\"convertToInteractive('df-4ca0e3d0-74a1-4710-b01e-6d103d27a00a')\"\n",
              "              title=\"Convert this dataframe to an interactive table.\"\n",
              "              style=\"display:none;\">\n",
              "        \n",
              "  <svg xmlns=\"http://www.w3.org/2000/svg\" height=\"24px\"viewBox=\"0 0 24 24\"\n",
              "       width=\"24px\">\n",
              "    <path d=\"M0 0h24v24H0V0z\" fill=\"none\"/>\n",
              "    <path d=\"M18.56 5.44l.94 2.06.94-2.06 2.06-.94-2.06-.94-.94-2.06-.94 2.06-2.06.94zm-11 1L8.5 8.5l.94-2.06 2.06-.94-2.06-.94L8.5 2.5l-.94 2.06-2.06.94zm10 10l.94 2.06.94-2.06 2.06-.94-2.06-.94-.94-2.06-.94 2.06-2.06.94z\"/><path d=\"M17.41 7.96l-1.37-1.37c-.4-.4-.92-.59-1.43-.59-.52 0-1.04.2-1.43.59L10.3 9.45l-7.72 7.72c-.78.78-.78 2.05 0 2.83L4 21.41c.39.39.9.59 1.41.59.51 0 1.02-.2 1.41-.59l7.78-7.78 2.81-2.81c.8-.78.8-2.07 0-2.86zM5.41 20L4 18.59l7.72-7.72 1.47 1.35L5.41 20z\"/>\n",
              "  </svg>\n",
              "      </button>\n",
              "      \n",
              "  <style>\n",
              "    .colab-df-container {\n",
              "      display:flex;\n",
              "      flex-wrap:wrap;\n",
              "      gap: 12px;\n",
              "    }\n",
              "\n",
              "    .colab-df-convert {\n",
              "      background-color: #E8F0FE;\n",
              "      border: none;\n",
              "      border-radius: 50%;\n",
              "      cursor: pointer;\n",
              "      display: none;\n",
              "      fill: #1967D2;\n",
              "      height: 32px;\n",
              "      padding: 0 0 0 0;\n",
              "      width: 32px;\n",
              "    }\n",
              "\n",
              "    .colab-df-convert:hover {\n",
              "      background-color: #E2EBFA;\n",
              "      box-shadow: 0px 1px 2px rgba(60, 64, 67, 0.3), 0px 1px 3px 1px rgba(60, 64, 67, 0.15);\n",
              "      fill: #174EA6;\n",
              "    }\n",
              "\n",
              "    [theme=dark] .colab-df-convert {\n",
              "      background-color: #3B4455;\n",
              "      fill: #D2E3FC;\n",
              "    }\n",
              "\n",
              "    [theme=dark] .colab-df-convert:hover {\n",
              "      background-color: #434B5C;\n",
              "      box-shadow: 0px 1px 3px 1px rgba(0, 0, 0, 0.15);\n",
              "      filter: drop-shadow(0px 1px 2px rgba(0, 0, 0, 0.3));\n",
              "      fill: #FFFFFF;\n",
              "    }\n",
              "  </style>\n",
              "\n",
              "      <script>\n",
              "        const buttonEl =\n",
              "          document.querySelector('#df-4ca0e3d0-74a1-4710-b01e-6d103d27a00a button.colab-df-convert');\n",
              "        buttonEl.style.display =\n",
              "          google.colab.kernel.accessAllowed ? 'block' : 'none';\n",
              "\n",
              "        async function convertToInteractive(key) {\n",
              "          const element = document.querySelector('#df-4ca0e3d0-74a1-4710-b01e-6d103d27a00a');\n",
              "          const dataTable =\n",
              "            await google.colab.kernel.invokeFunction('convertToInteractive',\n",
              "                                                     [key], {});\n",
              "          if (!dataTable) return;\n",
              "\n",
              "          const docLinkHtml = 'Like what you see? Visit the ' +\n",
              "            '<a target=\"_blank\" href=https://colab.research.google.com/notebooks/data_table.ipynb>data table notebook</a>'\n",
              "            + ' to learn more about interactive tables.';\n",
              "          element.innerHTML = '';\n",
              "          dataTable['output_type'] = 'display_data';\n",
              "          await google.colab.output.renderOutput(dataTable, element);\n",
              "          const docLink = document.createElement('div');\n",
              "          docLink.innerHTML = docLinkHtml;\n",
              "          element.appendChild(docLink);\n",
              "        }\n",
              "      </script>\n",
              "    </div>\n",
              "  </div>\n",
              "  "
            ]
          },
          "metadata": {},
          "execution_count": 29
        }
      ]
    },
    {
      "cell_type": "code",
      "source": [
        "#ploting a barchart\n",
        "data= sender_df\n",
        "sns.barplot(data= data, y=\"sender\", x= \"sender_email_count\")\n",
        "plt.show()\n"
      ],
      "metadata": {
        "colab": {
          "base_uri": "https://localhost:8080/",
          "height": 418
        },
        "id": "x4q8Yhrr7Ae1",
        "outputId": "ff40032e-2c54-4822-e047-faa6c89eb120"
      },
      "execution_count": 30,
      "outputs": [
        {
          "output_type": "display_data",
          "data": {
            "text/plain": [
              "<Figure size 640x480 with 1 Axes>"
            ],
            "image/png": "[encoded data removed]"
          },
          "metadata": {}
        }
      ]
    },
    {
      "cell_type": "markdown",
      "source": [
        "**Analysis For the Bar Chart**\n",
        "\n",
        "From the code(sns.barplot(data= data, y=\"sender\", x= \"sender_email_count\"),we can see that the values inside variable data has been used to plot the Barchart, and the values for  sender_email_count has been used for the x-axis and the values of sender has been used for the y-axis.\n",
        "\n",
        "From the bar chart, we can derive the jeff.dasovich@enron.com is the sender with the highest sender_email_count of 6000 and debra.perlingiere@enron.com is the sender with the lowest sender_email_count of approximately 2500."
      ],
      "metadata": {
        "id": "TcM02ePhAu5e"
      }
    },
    {
      "cell_type": "code",
      "source": [
        "#sql query to find recipient with highest email count\n",
        "recipient_query = '''\n",
        "    SELECT rvalue, COUNT(*) AS recipient_email_count\n",
        "    FROM recipientinfo\n",
        "    GROUP BY rvalue\n",
        "    ORDER BY recipient_email_count DESC\n",
        "    LIMIT 10\n",
        "  ;\n",
        "'''\n",
        "\n",
        "#Converting data to DataFrame\n",
        "recipient_df = pd.read_sql_query(recipient_query, conn)\n",
        "\n",
        "#display the DataFrame\n",
        "recipient_df\n"
      ],
      "metadata": {
        "colab": {
          "base_uri": "https://localhost:8080/",
          "height": 363
        },
        "id": "n-AGiciG7BCP",
        "outputId": "df57e03f-195a-4a3e-8d2f-5e12e43873c8"
      },
      "execution_count": 31,
      "outputs": [
        {
          "output_type": "execute_result",
          "data": {
            "text/plain": [
              "                      rvalue  recipient_email_count\n",
              "0       no.address@enron.com                  19198\n",
              "1    jeff.dasovich@enron.com                  11137\n",
              "2  richard.shapiro@enron.com                  11015\n",
              "3    steven.j.kean@enron.com                  10873\n",
              "4  james.d.steffes@enron.com                  10615\n",
              "5       tana.jones@enron.com                   9781\n",
              "6  sara.shackleton@enron.com                   9633\n",
              "7    mark.e.taylor@enron.com                   9090\n",
              "8   louise.kitchen@enron.com                   7603\n",
              "9       pete.davis@enron.com                   7509"
            ],
            "text/html": [
              "\n",
              "  <div id=\"df-1773fab7-e676-4d91-87ec-35766ecc11bb\">\n",
              "    <div class=\"colab-df-container\">\n",
              "      <div>\n",
              "<style scoped>\n",
              "    .dataframe tbody tr th:only-of-type {\n",
              "        vertical-align: middle;\n",
              "    }\n",
              "\n",
              "    .dataframe tbody tr th {\n",
              "        vertical-align: top;\n",
              "    }\n",
              "\n",
              "    .dataframe thead th {\n",
              "        text-align: right;\n",
              "    }\n",
              "</style>\n",
              "<table border=\"1\" class=\"dataframe\">\n",
              "  <thead>\n",
              "    <tr style=\"text-align: right;\">\n",
              "      <th></th>\n",
              "      <th>rvalue</th>\n",
              "      <th>recipient_email_count</th>\n",
              "    </tr>\n",
              "  </thead>\n",
              "  <tbody>\n",
              "    <tr>\n",
              "      <th>0</th>\n",
              "      <td>no.address@enron.com</td>\n",
              "      <td>19198</td>\n",
              "    </tr>\n",
              "    <tr>\n",
              "      <th>1</th>\n",
              "      <td>jeff.dasovich@enron.com</td>\n",
              "      <td>11137</td>\n",
              "    </tr>\n",
              "    <tr>\n",
              "      <th>2</th>\n",
              "      <td>richard.shapiro@enron.com</td>\n",
              "      <td>11015</td>\n",
              "    </tr>\n",
              "    <tr>\n",
              "      <th>3</th>\n",
              "      <td>steven.j.kean@enron.com</td>\n",
              "      <td>10873</td>\n",
              "    </tr>\n",
              "    <tr>\n",
              "      <th>4</th>\n",
              "      <td>james.d.steffes@enron.com</td>\n",
              "      <td>10615</td>\n",
              "    </tr>\n",
              "    <tr>\n",
              "      <th>5</th>\n",
              "      <td>tana.jones@enron.com</td>\n",
              "      <td>9781</td>\n",
              "    </tr>\n",
              "    <tr>\n",
              "      <th>6</th>\n",
              "      <td>sara.shackleton@enron.com</td>\n",
              "      <td>9633</td>\n",
              "    </tr>\n",
              "    <tr>\n",
              "      <th>7</th>\n",
              "      <td>mark.e.taylor@enron.com</td>\n",
              "      <td>9090</td>\n",
              "    </tr>\n",
              "    <tr>\n",
              "      <th>8</th>\n",
              "      <td>louise.kitchen@enron.com</td>\n",
              "      <td>7603</td>\n",
              "    </tr>\n",
              "    <tr>\n",
              "      <th>9</th>\n",
              "      <td>pete.davis@enron.com</td>\n",
              "      <td>7509</td>\n",
              "    </tr>\n",
              "  </tbody>\n",
              "</table>\n",
              "</div>\n",
              "      <button class=\"colab-df-convert\" onclick=\"convertToInteractive('df-1773fab7-e676-4d91-87ec-35766ecc11bb')\"\n",
              "              title=\"Convert this dataframe to an interactive table.\"\n",
              "              style=\"display:none;\">\n",
              "        \n",
              "  <svg xmlns=\"http://www.w3.org/2000/svg\" height=\"24px\"viewBox=\"0 0 24 24\"\n",
              "       width=\"24px\">\n",
              "    <path d=\"M0 0h24v24H0V0z\" fill=\"none\"/>\n",
              "    <path d=\"M18.56 5.44l.94 2.06.94-2.06 2.06-.94-2.06-.94-.94-2.06-.94 2.06-2.06.94zm-11 1L8.5 8.5l.94-2.06 2.06-.94-2.06-.94L8.5 2.5l-.94 2.06-2.06.94zm10 10l.94 2.06.94-2.06 2.06-.94-2.06-.94-.94-2.06-.94 2.06-2.06.94z\"/><path d=\"M17.41 7.96l-1.37-1.37c-.4-.4-.92-.59-1.43-.59-.52 0-1.04.2-1.43.59L10.3 9.45l-7.72 7.72c-.78.78-.78 2.05 0 2.83L4 21.41c.39.39.9.59 1.41.59.51 0 1.02-.2 1.41-.59l7.78-7.78 2.81-2.81c.8-.78.8-2.07 0-2.86zM5.41 20L4 18.59l7.72-7.72 1.47 1.35L5.41 20z\"/>\n",
              "  </svg>\n",
              "      </button>\n",
              "      \n",
              "  <style>\n",
              "    .colab-df-container {\n",
              "      display:flex;\n",
              "      flex-wrap:wrap;\n",
              "      gap: 12px;\n",
              "    }\n",
              "\n",
              "    .colab-df-convert {\n",
              "      background-color: #E8F0FE;\n",
              "      border: none;\n",
              "      border-radius: 50%;\n",
              "      cursor: pointer;\n",
              "      display: none;\n",
              "      fill: #1967D2;\n",
              "      height: 32px;\n",
              "      padding: 0 0 0 0;\n",
              "      width: 32px;\n",
              "    }\n",
              "\n",
              "    .colab-df-convert:hover {\n",
              "      background-color: #E2EBFA;\n",
              "      box-shadow: 0px 1px 2px rgba(60, 64, 67, 0.3), 0px 1px 3px 1px rgba(60, 64, 67, 0.15);\n",
              "      fill: #174EA6;\n",
              "    }\n",
              "\n",
              "    [theme=dark] .colab-df-convert {\n",
              "      background-color: #3B4455;\n",
              "      fill: #D2E3FC;\n",
              "    }\n",
              "\n",
              "    [theme=dark] .colab-df-convert:hover {\n",
              "      background-color: #434B5C;\n",
              "      box-shadow: 0px 1px 3px 1px rgba(0, 0, 0, 0.15);\n",
              "      filter: drop-shadow(0px 1px 2px rgba(0, 0, 0, 0.3));\n",
              "      fill: #FFFFFF;\n",
              "    }\n",
              "  </style>\n",
              "\n",
              "      <script>\n",
              "        const buttonEl =\n",
              "          document.querySelector('#df-1773fab7-e676-4d91-87ec-35766ecc11bb button.colab-df-convert');\n",
              "        buttonEl.style.display =\n",
              "          google.colab.kernel.accessAllowed ? 'block' : 'none';\n",
              "\n",
              "        async function convertToInteractive(key) {\n",
              "          const element = document.querySelector('#df-1773fab7-e676-4d91-87ec-35766ecc11bb');\n",
              "          const dataTable =\n",
              "            await google.colab.kernel.invokeFunction('convertToInteractive',\n",
              "                                                     [key], {});\n",
              "          if (!dataTable) return;\n",
              "\n",
              "          const docLinkHtml = 'Like what you see? Visit the ' +\n",
              "            '<a target=\"_blank\" href=https://colab.research.google.com/notebooks/data_table.ipynb>data table notebook</a>'\n",
              "            + ' to learn more about interactive tables.';\n",
              "          element.innerHTML = '';\n",
              "          dataTable['output_type'] = 'display_data';\n",
              "          await google.colab.output.renderOutput(dataTable, element);\n",
              "          const docLink = document.createElement('div');\n",
              "          docLink.innerHTML = docLinkHtml;\n",
              "          element.appendChild(docLink);\n",
              "        }\n",
              "      </script>\n",
              "    </div>\n",
              "  </div>\n",
              "  "
            ]
          },
          "metadata": {},
          "execution_count": 31
        }
      ]
    },
    {
      "cell_type": "code",
      "source": [
        "#ploting a barchart\n",
        "data= recipient_df\n",
        "sns.barplot(data= data, y=\"rvalue\", x= \"recipient_email_count\")"
      ],
      "metadata": {
        "colab": {
          "base_uri": "https://localhost:8080/",
          "height": 451
        },
        "id": "L_fnhnuT7nXX",
        "outputId": "077452a1-3a07-48a1-c844-c8863e00f20f"
      },
      "execution_count": 32,
      "outputs": [
        {
          "output_type": "execute_result",
          "data": {
            "text/plain": [
              "<Axes: xlabel='recipient_email_count', ylabel='rvalue'>"
            ]
          },
          "metadata": {},
          "execution_count": 32
        },
        {
          "output_type": "display_data",
          "data": {
            "text/plain": [
              "<Figure size 640x480 with 1 Axes>"
            ],
            "image/png": "[encoded data removed]"
          },
          "metadata": {}
        }
      ]
    },
    {
      "cell_type": "markdown",
      "source": [
        "**Analysis For the Bar Chart**\n",
        "\n",
        "From the code(sns.barplot(data= data, y=\"rvalue\", x= \"recipient_email_count\"),we can see that the values inside variable data has been used to plot the Barchart, and the values for  recipient_email_count has been used for the x-axis and the values of rvalue has been used for the y-axis.\n",
        "\n",
        "From the recepient_email_Count it can be noticed tht no.address@enron.com has the highest count of over 17500 and louise.kitchen@enron.com and pete.davis@enron.com has the lowest count of email of 7500\n",
        "\n",
        "\n"
      ],
      "metadata": {
        "id": "_r-U7efnAv_y"
      }
    },
    {
      "cell_type": "markdown",
      "source": [
        "**Email Distribution by Recipient Type**"
      ],
      "metadata": {
        "id": "Sxa4ng_IkPHx"
      }
    },
    {
      "cell_type": "code",
      "source": [
        "#sql queryto retrieve reciepient types and their count\n",
        "recipient_type_query = \"\"\"\n",
        "SELECT rtype ,count(*) As recipient_type_count\n",
        "FROM recipientinfo\n",
        "GROUP BY rtype\n",
        "ORDER By rtype \n",
        "\"\"\""
      ],
      "metadata": {
        "id": "82w84JarlBYb"
      },
      "execution_count": 33,
      "outputs": []
    },
    {
      "cell_type": "code",
      "source": [
        "#Converting data to Dataframe\n",
        "type_df =pd.read_sql_query(recipient_type_query,conn)\n",
        "#Displaying the Dataframe\n",
        "type_df "
      ],
      "metadata": {
        "colab": {
          "base_uri": "https://localhost:8080/",
          "height": 143
        },
        "id": "i8auW0fFQX9L",
        "outputId": "852234b3-ef4f-46e3-e99b-51a3119277c4"
      },
      "execution_count": 34,
      "outputs": [
        {
          "output_type": "execute_result",
          "data": {
            "text/plain": [
              "  rtype  recipient_type_count\n",
              "0   BCC                253713\n",
              "1    CC                253735\n",
              "2    TO               1556994"
            ],
            "text/html": [
              "\n",
              "  <div id=\"df-c3f49e05-7716-4f46-a548-5f7a99c9ee4f\">\n",
              "    <div class=\"colab-df-container\">\n",
              "      <div>\n",
              "<style scoped>\n",
              "    .dataframe tbody tr th:only-of-type {\n",
              "        vertical-align: middle;\n",
              "    }\n",
              "\n",
              "    .dataframe tbody tr th {\n",
              "        vertical-align: top;\n",
              "    }\n",
              "\n",
              "    .dataframe thead th {\n",
              "        text-align: right;\n",
              "    }\n",
              "</style>\n",
              "<table border=\"1\" class=\"dataframe\">\n",
              "  <thead>\n",
              "    <tr style=\"text-align: right;\">\n",
              "      <th></th>\n",
              "      <th>rtype</th>\n",
              "      <th>recipient_type_count</th>\n",
              "    </tr>\n",
              "  </thead>\n",
              "  <tbody>\n",
              "    <tr>\n",
              "      <th>0</th>\n",
              "      <td>BCC</td>\n",
              "      <td>253713</td>\n",
              "    </tr>\n",
              "    <tr>\n",
              "      <th>1</th>\n",
              "      <td>CC</td>\n",
              "      <td>253735</td>\n",
              "    </tr>\n",
              "    <tr>\n",
              "      <th>2</th>\n",
              "      <td>TO</td>\n",
              "      <td>1556994</td>\n",
              "    </tr>\n",
              "  </tbody>\n",
              "</table>\n",
              "</div>\n",
              "      <button class=\"colab-df-convert\" onclick=\"convertToInteractive('df-c3f49e05-7716-4f46-a548-5f7a99c9ee4f')\"\n",
              "              title=\"Convert this dataframe to an interactive table.\"\n",
              "              style=\"display:none;\">\n",
              "        \n",
              "  <svg xmlns=\"http://www.w3.org/2000/svg\" height=\"24px\"viewBox=\"0 0 24 24\"\n",
              "       width=\"24px\">\n",
              "    <path d=\"M0 0h24v24H0V0z\" fill=\"none\"/>\n",
              "    <path d=\"M18.56 5.44l.94 2.06.94-2.06 2.06-.94-2.06-.94-.94-2.06-.94 2.06-2.06.94zm-11 1L8.5 8.5l.94-2.06 2.06-.94-2.06-.94L8.5 2.5l-.94 2.06-2.06.94zm10 10l.94 2.06.94-2.06 2.06-.94-2.06-.94-.94-2.06-.94 2.06-2.06.94z\"/><path d=\"M17.41 7.96l-1.37-1.37c-.4-.4-.92-.59-1.43-.59-.52 0-1.04.2-1.43.59L10.3 9.45l-7.72 7.72c-.78.78-.78 2.05 0 2.83L4 21.41c.39.39.9.59 1.41.59.51 0 1.02-.2 1.41-.59l7.78-7.78 2.81-2.81c.8-.78.8-2.07 0-2.86zM5.41 20L4 18.59l7.72-7.72 1.47 1.35L5.41 20z\"/>\n",
              "  </svg>\n",
              "      </button>\n",
              "      \n",
              "  <style>\n",
              "    .colab-df-container {\n",
              "      display:flex;\n",
              "      flex-wrap:wrap;\n",
              "      gap: 12px;\n",
              "    }\n",
              "\n",
              "    .colab-df-convert {\n",
              "      background-color: #E8F0FE;\n",
              "      border: none;\n",
              "      border-radius: 50%;\n",
              "      cursor: pointer;\n",
              "      display: none;\n",
              "      fill: #1967D2;\n",
              "      height: 32px;\n",
              "      padding: 0 0 0 0;\n",
              "      width: 32px;\n",
              "    }\n",
              "\n",
              "    .colab-df-convert:hover {\n",
              "      background-color: #E2EBFA;\n",
              "      box-shadow: 0px 1px 2px rgba(60, 64, 67, 0.3), 0px 1px 3px 1px rgba(60, 64, 67, 0.15);\n",
              "      fill: #174EA6;\n",
              "    }\n",
              "\n",
              "    [theme=dark] .colab-df-convert {\n",
              "      background-color: #3B4455;\n",
              "      fill: #D2E3FC;\n",
              "    }\n",
              "\n",
              "    [theme=dark] .colab-df-convert:hover {\n",
              "      background-color: #434B5C;\n",
              "      box-shadow: 0px 1px 3px 1px rgba(0, 0, 0, 0.15);\n",
              "      filter: drop-shadow(0px 1px 2px rgba(0, 0, 0, 0.3));\n",
              "      fill: #FFFFFF;\n",
              "    }\n",
              "  </style>\n",
              "\n",
              "      <script>\n",
              "        const buttonEl =\n",
              "          document.querySelector('#df-c3f49e05-7716-4f46-a548-5f7a99c9ee4f button.colab-df-convert');\n",
              "        buttonEl.style.display =\n",
              "          google.colab.kernel.accessAllowed ? 'block' : 'none';\n",
              "\n",
              "        async function convertToInteractive(key) {\n",
              "          const element = document.querySelector('#df-c3f49e05-7716-4f46-a548-5f7a99c9ee4f');\n",
              "          const dataTable =\n",
              "            await google.colab.kernel.invokeFunction('convertToInteractive',\n",
              "                                                     [key], {});\n",
              "          if (!dataTable) return;\n",
              "\n",
              "          const docLinkHtml = 'Like what you see? Visit the ' +\n",
              "            '<a target=\"_blank\" href=https://colab.research.google.com/notebooks/data_table.ipynb>data table notebook</a>'\n",
              "            + ' to learn more about interactive tables.';\n",
              "          element.innerHTML = '';\n",
              "          dataTable['output_type'] = 'display_data';\n",
              "          await google.colab.output.renderOutput(dataTable, element);\n",
              "          const docLink = document.createElement('div');\n",
              "          docLink.innerHTML = docLinkHtml;\n",
              "          element.appendChild(docLink);\n",
              "        }\n",
              "      </script>\n",
              "    </div>\n",
              "  </div>\n",
              "  "
            ]
          },
          "metadata": {},
          "execution_count": 34
        }
      ]
    },
    {
      "cell_type": "code",
      "source": [
        "#plotting a piechart\n",
        "plt.figure(figsize=(8,6))\n",
        "plt.pie(data=type_df,x='recipient_type_count',labels='rtype',autopct='%.1f%%',colors = sns.color_palette('Set3'))\n",
        "plt.title('Email count per Type')\n",
        "\n",
        "#Displaying Piechart\n",
        "plt.show()\n"
      ],
      "metadata": {
        "colab": {
          "base_uri": "https://localhost:8080/",
          "height": 521
        },
        "id": "xRDFY-IiRp3g",
        "outputId": "4fb553c1-d4ce-4d89-e6d6-38f6567450a6"
      },
      "execution_count": 35,
      "outputs": [
        {
          "output_type": "display_data",
          "data": {
            "text/plain": [
              "<Figure size 800x600 with 1 Axes>"
            ],
            "image/png": "[encoded data removed]"
          },
          "metadata": {}
        }
      ]
    },
    {
      "cell_type": "markdown",
      "source": [
        "**Analysis of the email count per type piechart**\n",
        "\n",
        "\n",
        "From the piechart above we can deduce that the majoirity of emails belong to the \"To\" type with a percentage of 75.4% and the the \"CC\" type and \"BCC\" type have the the same percentage of 12.3%."
      ],
      "metadata": {
        "id": "nzCB0qsDi7ZF"
      }
    },
    {
      "cell_type": "code",
      "source": [
        "#closing the connection with the Database\n",
        "conn.commit()\n",
        "conn.close()"
      ],
      "metadata": {
        "id": "VKbISmFmORdp"
      },
      "execution_count": 36,
      "outputs": []
    },
    {
      "cell_type": "markdown",
      "source": [
        "**Conclusion**\n",
        "\n",
        "In this business report, we first downloaded the Enron database in the notebook using the!wget function and imported the sqlite3 library. Then we establish a connection between Enron.db and the sqlite3 library. Then we created a cursor object to execute the SQL queries. Secondly, we checked the schema of the tables present in the Database we were going to use for the analysis. After checking the schema of the tables, we imported the pandas library to help us convert the table data into Dataframe. We then check the Dataframe for null values. Since no null values were found, we did not need to clean the DataFrame. Finally, use SQL queries to fetch the data needed for each part of the analysis. Then we converted the query results into their respective DataFrame, which we then used to plot the different graphs.\n",
        "\n",
        "While analysing the data which the different types of graphs, we found that the bar chart was the most effective method that displayed the results more clearly and was easier to derive analysis from; the graph that was not able to display useful information consisted were day against email_count graph as there were too many values to interpret.\n"
      ],
      "metadata": {
        "id": "0V1A-y57KdvD"
      }
    }
  ],
  "metadata": {
    "colab": {
      "provenance": [],
      "include_colab_link": true
    },
    "kernelspec": {
      "display_name": "Python 3",
      "name": "python3"
    }
  },
  "nbformat": 4,
  "nbformat_minor": 0
}